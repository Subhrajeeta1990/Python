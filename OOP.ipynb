{
 "cells": [
  {
   "cell_type": "raw",
   "id": "2f27bc53",
   "metadata": {},
   "source": [
    "#Procedural programming: written statements and scripts.\n",
    "#Object oriented programming: \n",
    "#Class: to create a class in python."
   ]
  },
  {
   "cell_type": "code",
   "execution_count": 1,
   "id": "3fbb77fb",
   "metadata": {},
   "outputs": [],
   "source": [
    "class car:\n",
    "    pass"
   ]
  },
  {
   "cell_type": "code",
   "execution_count": 5,
   "id": "5ed45419",
   "metadata": {},
   "outputs": [
    {
     "data": {
      "text/plain": [
       "'sedan'"
      ]
     },
     "execution_count": 5,
     "metadata": {},
     "output_type": "execute_result"
    }
   ],
   "source": [
    "class car:\n",
    "    car_type=\"sedan\"\n",
    "c=car\n",
    "c.car_type"
   ]
  },
  {
   "cell_type": "code",
   "execution_count": 14,
   "id": "ca0bed67",
   "metadata": {},
   "outputs": [
    {
     "name": "stdout",
     "output_type": "stream",
     "text": [
      "the sedan of black is having 14km/ltr and top speed is 150km/hr also it is petrol car\n"
     ]
    }
   ],
   "source": [
    "class car:\n",
    "    car_type=\"sedan\"\n",
    "    def __init__(self,color,mileage,ts,ft):\n",
    "        self.color =color\n",
    "        self.mileage = mileage\n",
    "        self.ts = ts\n",
    "        self.ft = ft\n",
    "    def describe(self):\n",
    "        print(f\"the sedan of {self.color} is having {self.mileage}km/ltr and top speed is {self.ts}km/hr also it is {self.ft} car\")\n",
    "c= car(\"black\",14,150,\"petrol\")\n",
    "c.describe()"
   ]
  },
  {
   "cell_type": "code",
   "execution_count": 17,
   "id": "5abe1225",
   "metadata": {},
   "outputs": [
    {
     "name": "stdout",
     "output_type": "stream",
     "text": [
      "The name of employee is Subhi with id 99014 who is female having mail_id ofsubhrajeeta1990@gmail.com and phone_no is 7077616869\n"
     ]
    }
   ],
   "source": [
    "#WAC Employee, add a constructor to it, take the details of employee as name,id,deppt,gender,mailid,phone no. write a method to show the details and create a object to access the details of the employee.\n",
    "\n",
    "class employee:\n",
    "    def __init__(self,name,id1,deppt,gender,mail_id,phone_no):\n",
    "        self.name = name\n",
    "        self.id1 = id1\n",
    "        self.deppt = deppt\n",
    "        self.gender = gender\n",
    "        self.mail_id = mail_id\n",
    "        self.phone_no = phone_no\n",
    "    def describe(self):\n",
    "        print(f\"The name of employee is {self.name} with id {self.id1} who is {self.gender} having mail_id of {self.mail_id} and phone_no is {self.phone_no}\")\n",
    "c= employee(\"Subhi\",\"99014\",\"Finance\",\"female\",\"subhrajeeta1990@gmail.com\",\"7077616869\")\n",
    "c.describe()"
   ]
  },
  {
   "cell_type": "code",
   "execution_count": 8,
   "id": "ccb1c98f",
   "metadata": {},
   "outputs": [
    {
     "name": "stdout",
     "output_type": "stream",
     "text": [
      "5 * 1 = 5\n",
      "5 * 2 = 10\n",
      "5 * 3 = 15\n",
      "5 * 4 = 20\n",
      "5 * 5 = 25\n",
      "5 * 6 = 30\n",
      "5 * 7 = 35\n",
      "5 * 8 = 40\n",
      "5 * 9 = 45\n",
      "5 * 10 = 50\n"
     ]
    }
   ],
   "source": [
    "n=5\n",
    "for i in range(1,11):\n",
    "    print(\"{} * {} = {}\".format(n,i,n*i))"
   ]
  },
  {
   "cell_type": "code",
   "execution_count": 9,
   "id": "446f169e",
   "metadata": {},
   "outputs": [
    {
     "name": "stdout",
     "output_type": "stream",
     "text": [
      "5 * 1 = 5\n",
      "5 * 2 = 10\n",
      "5 * 3 = 15\n",
      "5 * 4 = 20\n",
      "5 * 5 = 25\n",
      "5 * 6 = 30\n",
      "5 * 7 = 35\n",
      "5 * 8 = 40\n",
      "5 * 9 = 45\n",
      "5 * 10 = 50\n"
     ]
    }
   ],
   "source": [
    "n=5\n",
    "for i in range(1,11):\n",
    "    print(f\"{n} * {i} = {n*i}\")"
   ]
  }
 ],
 "metadata": {
  "kernelspec": {
   "display_name": "Python 3",
   "language": "python",
   "name": "python3"
  },
  "language_info": {
   "codemirror_mode": {
    "name": "ipython",
    "version": 3
   },
   "file_extension": ".py",
   "mimetype": "text/x-python",
   "name": "python",
   "nbconvert_exporter": "python",
   "pygments_lexer": "ipython3",
   "version": "3.8.8"
  }
 },
 "nbformat": 4,
 "nbformat_minor": 5
}
