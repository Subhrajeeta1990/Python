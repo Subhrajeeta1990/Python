{
 "cells": [
  {
   "cell_type": "markdown",
   "id": "b92e03ab",
   "metadata": {},
   "source": [
    "#Nested Conditions:"
   ]
  },
  {
   "cell_type": "code",
   "execution_count": 1,
   "id": "eb3c9474",
   "metadata": {},
   "outputs": [
    {
     "name": "stdout",
     "output_type": "stream",
     "text": [
      "Enter the wheather: sunny\n",
      "enter the temperature: 56\n",
      "too hot to go outside\n"
     ]
    }
   ],
   "source": [
    "w=input(\"Enter the wheather: \")\n",
    "if w==\"sunny\":\n",
    "    temp=int(input(\"enter the temperature: \"))\n",
    "    if temp<45:\n",
    "        print(\"Play\")\n",
    "    else:\n",
    "        print(\"too hot to go outside\")"
   ]
  },
  {
   "cell_type": "code",
   "execution_count": 3,
   "id": "ab6e3c33",
   "metadata": {},
   "outputs": [
    {
     "name": "stdout",
     "output_type": "stream",
     "text": [
      "Enter the wheather: sunny\n",
      "enter the temperature: 40\n",
      "Yes or Noyes\n",
      "Let's play\n"
     ]
    }
   ],
   "source": [
    "w=input(\"Enter the wheather: \")\n",
    "if w==\"sunny\":\n",
    "    temp=int(input(\"enter the temperature: \"))\n",
    "    if temp<45:\n",
    "        humid=input(\"Yes or No\")\n",
    "        if humid==\"Yes\":\n",
    "            print(\"Not Play\")\n",
    "        else:\n",
    "            print(\"Let's play\")\n",
    "    else:\n",
    "        print(\"too hot to go outside\")"
   ]
  },
  {
   "cell_type": "code",
   "execution_count": 7,
   "id": "8a9d14be",
   "metadata": {},
   "outputs": [
    {
     "name": "stdout",
     "output_type": "stream",
     "text": [
      "Enter the wheather: cold\n",
      "enter the temperature: 6\n",
      "Let's play\n"
     ]
    }
   ],
   "source": [
    "w=input(\"Enter the wheather: \")\n",
    "if w==\"sunny\":\n",
    "    temp=int(input(\"enter the temperature: \"))\n",
    "    if temp<45:\n",
    "        humid=input(\"Yes or No\")\n",
    "        if humid==\"Yes\":\n",
    "            print(\"Not Play\")\n",
    "        else:\n",
    "            print(\"Let's play\")\n",
    "    else:\n",
    "        print(\"too hot to go outside\")\n",
    "elif w==\"cold\":\n",
    "    temp=int(input(\"enter the temperature: \"))\n",
    "    if temp<5:\n",
    "        print(\"Not Play\")\n",
    "    else:\n",
    "        print(\"Let's play\")"
   ]
  },
  {
   "cell_type": "code",
   "execution_count": 10,
   "id": "522e0dc8",
   "metadata": {},
   "outputs": [
    {
     "name": "stdout",
     "output_type": "stream",
     "text": [
      "Enter the toss:  heads or tails: tails\n",
      "Pak wins\n",
      "What Pak wants: bat or bowl:bowl\n",
      "Rahul will open\n"
     ]
    }
   ],
   "source": [
    "#WAP to take input from the user regarding toss: heads or tails\n",
    "#if it is heads -India wins toss, now ask India what India wants-bat or ball. if India choose to bat - rahul will open . if it is ball- bumrah will bowl.\n",
    "#if it is tails- pakistan wins toss, now ask pak what pak wants - bat or ball, if pak choose to ball -bumrah\n",
    "\n",
    "\n",
    "toss=input(\"Enter the toss:  heads or tails: \")\n",
    "if toss==\"heads\":\n",
    "    print(\"India wins\")\n",
    "    choice=input(\"What India wants: bat or bowl: \")\n",
    "    if choice==\"bat\":\n",
    "        print(\"Rahul will open\")\n",
    "    else:\n",
    "        print(\"Bumrah will bowl\")\n",
    "elif toss==\"tails\":\n",
    "    print(\"Pak wins\")\n",
    "    choice=input(\"What Pak wants: bat or bowl:\")\n",
    "    if choice==\"bat\":\n",
    "        print(\"Bumrah will bowl\")\n",
    "    else:\n",
    "        print(\"Rahul will open\")     "
   ]
  },
  {
   "cell_type": "code",
   "execution_count": 12,
   "id": "abcdaed8",
   "metadata": {},
   "outputs": [
    {
     "name": "stdout",
     "output_type": "stream",
     "text": [
      "Enter the menu: \n",
      " 1.chilli_potato\n",
      " 2.ice_cream\n",
      " 3.burger\n",
      " 4.rolls\n",
      "burger\n",
      "Enter the choice: \n",
      " 1.veg\n",
      " 2.non_vegnon_veg\n",
      "Enter the toppings: \n",
      " 1.sausages\n",
      " 2.roasted tandoori\n",
      "sausages\n",
      "The price of Sausages_burger is: Rs100\n"
     ]
    }
   ],
   "source": [
    "#WAp to lets say you own a resturant:\n",
    "#menu: 1) chilli potato - honey chilli and spicy cheese potato\n",
    "      #2) ice cream - vanilla, butterscotch,blueberry, choclate\n",
    "      #3) burger - veg (cheese or paneer)and non veg - (sausages or roasted tandoori)\n",
    "      #4)rolls - veg (paneer roll or chaap roll) abd non veg - egg roll chicken roll or mutton roll \n",
    "\n",
    "\n",
    "menu=input(\"Enter the menu: \\n 1.chilli_potato\\n 2.ice_cream\\n 3.burger\\n 4.rolls\\n\")\n",
    "if menu==\"chilli_potato\":\n",
    "    choice=input(\"Enter the choice: \\n 1.honey_chilli\\n 2.spicy_cheese_potato\\n\")\n",
    "    if choice==\"honey_chilli\":\n",
    "        print(\"The price of honey_chilli is: Rs150\")\n",
    "    else:\n",
    "        print(\"The price of spicy_cheese_potato is: Rs250\")\n",
    "elif menu==\"ice_cream\":\n",
    "    choice=input(\"Enter the choice: \\n 1.vanilla\\n 2.butterscotch\\n 3.blueberry\\n 4.choclate\\n\")\n",
    "    if choice==\"vanilla\":\n",
    "        print(\"The price of vanilla ice_cream is: Rs40\")\n",
    "    elif choice==\"butterscotch\":\n",
    "        print(\"The price of butterscotch ice_cream is: Rs 50\")\n",
    "    elif choice==\"blueberry\":\n",
    "        print(\"The price of blueberry ice_cream: Rs60\")\n",
    "    else:\n",
    "        print(\"The price of choclate ice_cream is: Rs70\")\n",
    "elif menu==\"burger\":\n",
    "    choice=input(\"Enter the choice: \\n 1.veg\\n 2.non_veg\")\n",
    "    if choice ==\"veg\":\n",
    "        toppings=input(\"Enter the toppings: \\n 1.cheese\\n 2.paneer\\n\")\n",
    "        if toppings==\"cheese\":\n",
    "            print(\"The price of cheese burger is: Rs 130\")\n",
    "        else:\n",
    "            print(\"The price of paneer burger is: Rs 140\")\n",
    "    elif choice==\"non_veg\":\n",
    "        toppings=input(\"Enter the toppings: \\n 1.sausages\\n 2.roasted tandoori\\n\")\n",
    "        if toppings==\"sausages\":\n",
    "            print(\"The price of Sausages_burger is: Rs100\")\n",
    "        else:\n",
    "            print(\"The price of roasted_tandoori_burger is: Rs200\")\n",
    "elif menu==\"rolls\":\n",
    "    choice=input(\"Enter the choice: \\n 1.veg\\n 2.non_veg\\n\")\n",
    "    if choice==\"veg\":\n",
    "        toppings=input(\"Enter the toppings: n\\ 1.paneer\\n 2.chaap\\n\")\n",
    "        if toppings==\"paneer\":\n",
    "            print(\"The price of paneer_roll is: Rs60\")\n",
    "        else:\n",
    "            print(\"The price of chaap_roll is: Rs70\")\n",
    "    elif choice==\"non_veg\":\n",
    "        toppings=input(\"Enter the toppings: n\\ 1.egg\\n 2.chicken\\n 3.mutton\\n\")\n",
    "        if toppings==\"egg\":\n",
    "            print(\"The price of egg_roll is: Rs50\")\n",
    "        elif toppings==\"chicken\":\n",
    "            print(\"The price of chicken_roll is: Rs60\")\n",
    "        elif toppings==\"mutton\":\n",
    "            print(\"The price of mutton_roll is: Rs 70\")          "
   ]
  },
  {
   "cell_type": "code",
   "execution_count": 4,
   "id": "4d815618",
   "metadata": {},
   "outputs": [
    {
     "name": "stdout",
     "output_type": "stream",
     "text": [
      "Enter the criminal record: 0\n",
      "Enter the past position: \n",
      " 1.yes\n",
      " 2.no\n",
      "yes\n",
      "Enter the age: 78\n",
      "He is eligible\n"
     ]
    }
   ],
   "source": [
    "#wap to check the eligibilty of a candidate for PM post,\n",
    "#if the no of criminal record is zero and he is past_minister , plus his age is greater than 45. so he is eligible for PM.\n",
    "\n",
    "criminal_record=int(input(\"Enter the criminal record: \"))\n",
    "past_minister=input(\"Enter the past position: \\n 1.yes\\n 2.no\\n\")\n",
    "age=int(input(\"Enter the age: \"))\n",
    "if criminal_record==0 and past_minister==\"yes\" and age>45:\n",
    "    print(\"He is eligible\")\n",
    "else:\n",
    "    print(\"He is not eligible\")"
   ]
  },
  {
   "cell_type": "code",
   "execution_count": 5,
   "id": "2ad6f768",
   "metadata": {},
   "outputs": [
    {
     "name": "stdout",
     "output_type": "stream",
     "text": [
      "Enter the weight: 78.67\n",
      "Enter the height: 154.67\n",
      "Underweight: You need to add crabs in diet\n"
     ]
    }
   ],
   "source": [
    "#Wap to take the the height and weight of a student and on basis of that u need to compute the BMI chart , u need to clarify him in below mentioned categories:\n",
    "   # 1)underweight\n",
    "   # 2)overweight\n",
    "   # 3)normal\n",
    "   # if the student is underweight, u need to add crabs to his diet.\n",
    "   # if the student is overweight, u need to avoid crabs from his diet.\n",
    "   # if the student is normal, u nedd to give him 100g of protein.\n",
    "\n",
    "w=float(input(\"Enter the weight: \"))\n",
    "h=float(input(\"Enter the height: \"))\n",
    "BMI=w/h**2\n",
    "if BMI<=18.5:\n",
    "    print(\"Underweight: You need to add crabs in diet\")\n",
    "elif 18.5<BMI<24.9:\n",
    "    print(\"Normal: You need to add 100g of protein in diet\")\n",
    "elif 25<BMI<29.9:\n",
    "    print(\"Overweight: You need to avoid crabs from diet\")"
   ]
  },
  {
   "cell_type": "code",
   "execution_count": 5,
   "id": "7b705853",
   "metadata": {},
   "outputs": [
    {
     "name": "stdout",
     "output_type": "stream",
     "text": [
      "Enter the type of rain: \n",
      " 1.heavy\n",
      " 2.Slow\n",
      "heavy\n",
      "Enter the work_day: \n",
      "1.Yes\n",
      " 2.No\n",
      "Yes\n",
      "Enter do you have umb: \n",
      " 1.Yes\n",
      " 2.No\n",
      "No\n",
      "I am not Safe\n"
     ]
    }
   ],
   "source": [
    "#WAp whether we are prepared for wheather.I aid that I am safe from today's wheather.\n",
    "\n",
    "\n",
    "rain_type=input(\"Enter the type of rain: \\n 1.heavy\\n 2.Slow\\n\")\n",
    "work_day=input(\"Enter the work_day: \\n1.Yes\\n 2.No\\n\")\n",
    "umb=input(\"Enter do you have umb: \\n 1.Yes\\n 2.No\\n\")\n",
    "if work_day==\"Yes\":\n",
    "    if rain_type==\"heavy\":\n",
    "        if umb==\"Yes\":\n",
    "            print(\"I am Safe\")\n",
    "        else:\n",
    "            print(\"I am not Safe\")\n",
    "    elif rain_type==\"slow\":\n",
    "        hood=input(\"Enter do you have hood: \\n1.Yes\\n 2.No\\n\")\n",
    "        if hood==\"Yes\":\n",
    "            print(\"I am Safe\")\n",
    "        else:\n",
    "            print(\"I am not safe\")\n",
    "else:\n",
    "    print(\"Stay back and enjoy the rain\")"
   ]
  },
  {
   "cell_type": "code",
   "execution_count": null,
   "id": "c2b49e83",
   "metadata": {},
   "outputs": [],
   "source": []
  }
 ],
 "metadata": {
  "kernelspec": {
   "display_name": "Python 3",
   "language": "python",
   "name": "python3"
  },
  "language_info": {
   "codemirror_mode": {
    "name": "ipython",
    "version": 3
   },
   "file_extension": ".py",
   "mimetype": "text/x-python",
   "name": "python",
   "nbconvert_exporter": "python",
   "pygments_lexer": "ipython3",
   "version": "3.8.8"
  }
 },
 "nbformat": 4,
 "nbformat_minor": 5
}
