{
 "cells": [
  {
   "cell_type": "code",
   "execution_count": 4,
   "id": "cfc56f9f",
   "metadata": {},
   "outputs": [
    {
     "name": "stdout",
     "output_type": "stream",
     "text": [
      "Enter the side: 2\n",
      "Enter the length: 5\n",
      "Enter the breadth: 8\n",
      "40\n"
     ]
    }
   ],
   "source": [
    "#WAP to take input from the user regarding side of a shape, if the side is 2, compute the area of rectangle, if the side is 1, compute the area of square and if zero is entered in the side, we should check for radius of the circle and then compute the area of circle.\n",
    "#area of rec=l*b\n",
    "#area of square=s**2\n",
    "#area of circle=3.14*r**2\n",
    "\n",
    "\n",
    "side=int(input(\"Enter the side: \"))\n",
    "if side==0:\n",
    "    radius=int(input(\"Enter the radius: \"))\n",
    "    ar_circle=3.14*radius**2\n",
    "    print(ar_circle)\n",
    "elif side==1:\n",
    "    sq_side=int(input(\"Enter the side of the square: \"))\n",
    "    print(sq_side*sq_side)\n",
    "elif side==2:\n",
    "    l=int(input(\"Enter the length: \"))\n",
    "    b=int(input(\"Enter the breadth: \"))\n",
    "    print(l*b)"
   ]
  },
  {
   "cell_type": "code",
   "execution_count": 15,
   "id": "163784db",
   "metadata": {},
   "outputs": [
    {
     "name": "stdout",
     "output_type": "stream",
     "text": [
      "Enter the number: -24\n",
      "Enter any multiple of four: 40\n",
      "Try again\n"
     ]
    }
   ],
   "source": [
    "#WAP to check if entered n is positive, negative is zero. \n",
    "# if the no is positive , multiply that with 2 and the if the product is greater than 40, print\"bigger\" else print\"smaller\".\n",
    "# if the no is zero, add any multiple of 7 to it and check if the sum is divisible by 3. if it is divisible by 3 then print\"done\" or else print\"not done\".\n",
    "# if the no is negative, then divide it with negative multiple of 4. if the result is greater than 20, print\"got that\" or else print\"try again\".\n",
    "\n",
    "\n",
    "num=int(input(\"Enter the number: \"))\n",
    "if num>0:\n",
    "    product=num*2\n",
    "    if product>40:\n",
    "        print(\"bigger\")\n",
    "    else:\n",
    "        print(\"smaller\")\n",
    "elif num==0:\n",
    "    table_of_seven=int(input(\"Enter any multiple of seven: \"))\n",
    "    product=num+table_of_seven\n",
    "    if product%3==0:\n",
    "        print(\"Done\")\n",
    "    else:\n",
    "        print(\"Not done\")\n",
    "elif num<0:\n",
    "    table_of_four=int(input(\"Enter any multiple of four: \"))\n",
    "    product=num/table_of_four\n",
    "    if product>20:\n",
    "        print(\"Got that\")\n",
    "    else:\n",
    "        print(\"Try again\")"
   ]
  },
  {
   "cell_type": "code",
   "execution_count": 5,
   "id": "6197d76e",
   "metadata": {},
   "outputs": [
    {
     "name": "stdout",
     "output_type": "stream",
     "text": [
      "Enter the gender: male\n",
      "Enter the style: indian\n",
      "Enter the choices: kurta\n",
      "Price:Rs1500\n"
     ]
    }
   ],
   "source": [
    "#WAP to take the input from the user regarding his or her cloth choice;\n",
    "# the choices are: indian, western\n",
    "#     if he choses indian: give choices of sherwani, kurta\n",
    "#         print the price of sherwani and kurta for men and\n",
    "#     simiraly for females - sarees and suit.\n",
    "#     then print the price.\n",
    "#     western: jeans, trousers- for men and their prices.\n",
    "#             jeans, skirt, frock,rousers and their prices.\n",
    "            \n",
    "            \n",
    "            \n",
    "gender=input(\"Enter the gender: \")\n",
    "if gender==\"male\":\n",
    "    style=input(\"Enter the style: \")\n",
    "    if style==\"indian\":\n",
    "        choices=input(\"Enter the choices: \")\n",
    "        if choices==\"sherwani\":\n",
    "            print(\"Price:Rs 2500\")\n",
    "        else:\n",
    "            print(\"Price:Rs1500\")\n",
    "    elif style==\"western\":\n",
    "        choices=input(\"Enter the choices: \")\n",
    "        if choices==\"jeans\":\n",
    "            print(\"Price:Rs800\")\n",
    "        else:\n",
    "            print(\"Price:Rs1000\")\n",
    "elif gender==\"female\":\n",
    "    style=input(\"Enter the style: \")\n",
    "    if style==\"indian\":\n",
    "        choices=input(\"Enter the choices: \")\n",
    "        if choices==\"saree\":\n",
    "            print(\"Price:Rs1500\")\n",
    "        else:\n",
    "            print(\"Price:Rs3000\")\n",
    "    elif style==\"western\":\n",
    "        choices=input(\"Enter the choices: \")\n",
    "        if choices==\"jeans\":\n",
    "            print(\"Price:Rs800\")\n",
    "        elif choices==\"skirt\":\n",
    "            print(\"Price:Rs1000\")\n",
    "        elif choices==\"frock\":\n",
    "            print(\"Price:Rs4000\")\n",
    "        else:\n",
    "            print(\"Price:Rs2200\")"
   ]
  },
  {
   "cell_type": "code",
   "execution_count": null,
   "id": "ff7c3974",
   "metadata": {},
   "outputs": [],
   "source": []
  }
 ],
 "metadata": {
  "kernelspec": {
   "display_name": "Python 3",
   "language": "python",
   "name": "python3"
  },
  "language_info": {
   "codemirror_mode": {
    "name": "ipython",
    "version": 3
   },
   "file_extension": ".py",
   "mimetype": "text/x-python",
   "name": "python",
   "nbconvert_exporter": "python",
   "pygments_lexer": "ipython3",
   "version": "3.8.8"
  }
 },
 "nbformat": 4,
 "nbformat_minor": 5
}
