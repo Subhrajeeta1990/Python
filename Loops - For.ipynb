{
 "cells": [
  {
   "cell_type": "code",
   "execution_count": 1,
   "id": "cad08fd4",
   "metadata": {},
   "outputs": [
    {
     "name": "stdout",
     "output_type": "stream",
     "text": [
      "Enter the tool: python\n",
      "Enter the level: advanced\n",
      "apply for jobs of python developer\n"
     ]
    }
   ],
   "source": [
    "#WAP to take the input from the user regarding the course:\n",
    "# if course is data science- ask him which tool he wants to learn first- choices are python,sql,ML,stats and Tableau.\n",
    "# if he chooses python- ask him the level he is at currently which basic, intermediate and advanced. \n",
    "# if he is at intermediate level -ask him to do practise on hackerrearth.\n",
    "# if he is at advanced level- ask him to he should apply for jobs of python developer.\n",
    "# Now if he is choosing tableau, he should go for bussiness intelligence roles.\n",
    "# and if he is starting with ML, he should apply for ML engineer.\n",
    "\n",
    "\n",
    "tool=input(\"Enter the tool: \")\n",
    "if tool==\"python\":\n",
    "    level=input(\"Enter the level: \")\n",
    "    if level==\"intermediate\":\n",
    "        print(\"practise on hackerrearth\")\n",
    "    elif level==\"advanced\":\n",
    "        print(\"apply for jobs of python developer\")\n",
    "    else:\n",
    "        print(\"join a python class\")\n",
    "elif tool==\"tableau\":\n",
    "    print(\"apply for BI roles\")\n",
    "elif tool==\"ML\":\n",
    "    print(\"apply for ML engineer\")"
   ]
  },
  {
   "cell_type": "markdown",
   "id": "1fa67368",
   "metadata": {},
   "source": [
    "#Loop:\n",
    "-for loop\n",
    "-while loop"
   ]
  },
  {
   "cell_type": "code",
   "execution_count": 2,
   "id": "578e3630",
   "metadata": {},
   "outputs": [
    {
     "data": {
      "text/plain": [
       "[1, 2, 3, 4, 5]"
      ]
     },
     "execution_count": 2,
     "metadata": {},
     "output_type": "execute_result"
    }
   ],
   "source": [
    "#print numbers 1 to 5:\n",
    "#range(start,stop,step)\n",
    "\n",
    "list(range(1,6))"
   ]
  },
  {
   "cell_type": "code",
   "execution_count": 3,
   "id": "a27bd723",
   "metadata": {},
   "outputs": [
    {
     "name": "stdout",
     "output_type": "stream",
     "text": [
      "1\n",
      "2\n",
      "3\n",
      "4\n",
      "5\n"
     ]
    }
   ],
   "source": [
    "#for loop:\n",
    "\n",
    "for i in range(1,6):\n",
    "    print(i)"
   ]
  },
  {
   "cell_type": "code",
   "execution_count": 5,
   "id": "3f204300",
   "metadata": {},
   "outputs": [
    {
     "name": "stdout",
     "output_type": "stream",
     "text": [
      "1\n",
      "2\n",
      "3\n",
      "4\n",
      "5\n",
      "6\n",
      "7\n",
      "8\n",
      "9\n"
     ]
    }
   ],
   "source": [
    "for i in range(1,10):\n",
    "    print(i)\n"
   ]
  },
  {
   "cell_type": "code",
   "execution_count": 13,
   "id": "0c1f30ca",
   "metadata": {},
   "outputs": [
    {
     "name": "stdout",
     "output_type": "stream",
     "text": [
      "10\n",
      "9\n",
      "8\n",
      "7\n",
      "6\n",
      "5\n",
      "4\n",
      "3\n",
      "2\n",
      "1\n"
     ]
    }
   ],
   "source": [
    "for i in range(10,0,-1):\n",
    "    print(i)"
   ]
  },
  {
   "cell_type": "code",
   "execution_count": 14,
   "id": "7447e528",
   "metadata": {},
   "outputs": [
    {
     "name": "stdout",
     "output_type": "stream",
     "text": [
      "5\n",
      "10\n",
      "15\n",
      "20\n",
      "25\n",
      "30\n",
      "35\n",
      "40\n",
      "45\n",
      "50\n"
     ]
    }
   ],
   "source": [
    "for i in range(5,55,5):\n",
    "    print(i)\n"
   ]
  },
  {
   "cell_type": "code",
   "execution_count": 17,
   "id": "58db74f7",
   "metadata": {},
   "outputs": [
    {
     "name": "stdout",
     "output_type": "stream",
     "text": [
      "enter the number:78\n",
      "780\n",
      "702\n",
      "624\n",
      "546\n",
      "468\n",
      "390\n",
      "312\n",
      "234\n",
      "156\n",
      "78\n"
     ]
    }
   ],
   "source": [
    "n=int(input(\"enter the number:\"))\n",
    "for i in range(10,0,-1):\n",
    "    print(i*n)"
   ]
  },
  {
   "cell_type": "code",
   "execution_count": 21,
   "id": "7de3357e",
   "metadata": {},
   "outputs": [
    {
     "name": "stdout",
     "output_type": "stream",
     "text": [
      "odd: 1\n",
      "even: 2\n",
      "odd: 3\n",
      "even: 4\n",
      "odd: 5\n",
      "even: 6\n",
      "odd: 7\n",
      "even: 8\n",
      "odd: 9\n",
      "even: 10\n",
      "odd: 11\n",
      "even: 12\n",
      "odd: 13\n",
      "even: 14\n",
      "odd: 15\n",
      "even: 16\n",
      "odd: 17\n",
      "even: 18\n",
      "odd: 19\n",
      "even: 20\n"
     ]
    }
   ],
   "source": [
    "for i in range(1,21):\n",
    "    if i%2==0:\n",
    "        print(\"even:\",i)\n",
    "    else:\n",
    "        print(\"odd:\",i)"
   ]
  },
  {
   "cell_type": "code",
   "execution_count": 22,
   "id": "ea7d2fe7",
   "metadata": {},
   "outputs": [
    {
     "name": "stdout",
     "output_type": "stream",
     "text": [
      "1 odd\n",
      "2 even\n",
      "3 odd\n",
      "4 even\n",
      "5 odd\n",
      "6 even\n",
      "7 odd\n",
      "8 even\n",
      "9 odd\n",
      "10 even\n",
      "11 odd\n",
      "12 even\n",
      "13 odd\n",
      "14 even\n",
      "15 odd\n",
      "16 even\n",
      "17 odd\n",
      "18 even\n",
      "19 odd\n",
      "20 even\n"
     ]
    }
   ],
   "source": [
    "for i in range(1,21,2):\n",
    "    print(i,\"odd\")\n",
    "    print(i+1,\"even\")"
   ]
  },
  {
   "cell_type": "code",
   "execution_count": 24,
   "id": "337cbed7",
   "metadata": {},
   "outputs": [
    {
     "name": "stdout",
     "output_type": "stream",
     "text": [
      "factor 1\n",
      "factor 2\n",
      "factor 3\n",
      "factor 4\n",
      "factor 5\n",
      "factor 6\n",
      "factor 7\n",
      "factor 8\n",
      "factor 9\n",
      "factor 10\n"
     ]
    }
   ],
   "source": [
    "#WAP to count no of factors of a number entered by a user:\n",
    "\n",
    "# 10=1,2,5,10\n",
    "# 15=1,3,5,15\n",
    "\n",
    "\n",
    "for i in range(1,11):\n",
    "    if i%1==0:\n",
    "        print(\"factor\",i)\n",
    "    else:\n",
    "        print(\"not_factor\",i)\n"
   ]
  },
  {
   "cell_type": "code",
   "execution_count": null,
   "id": "042ea750",
   "metadata": {},
   "outputs": [],
   "source": []
  }
 ],
 "metadata": {
  "kernelspec": {
   "display_name": "Python 3",
   "language": "python",
   "name": "python3"
  },
  "language_info": {
   "codemirror_mode": {
    "name": "ipython",
    "version": 3
   },
   "file_extension": ".py",
   "mimetype": "text/x-python",
   "name": "python",
   "nbconvert_exporter": "python",
   "pygments_lexer": "ipython3",
   "version": "3.8.8"
  }
 },
 "nbformat": 4,
 "nbformat_minor": 5
}
