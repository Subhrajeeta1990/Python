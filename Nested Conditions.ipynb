{
 "cells": [
  {
   "cell_type": "code",
   "execution_count": 2,
   "id": "aab1eeed",
   "metadata": {},
   "outputs": [
    {
     "name": "stdout",
     "output_type": "stream",
     "text": [
      "Enter a number:39\n",
      "Number is odd\n"
     ]
    }
   ],
   "source": [
    "#WAP to print if a number is even or odd:\n",
    "\n",
    "num=int(input(\"Enter a number:\"))\n",
    "if num%2==0:\n",
    "    print(\"Number is even\")\n",
    "else:\n",
    "    print(\"Number is odd\")"
   ]
  },
  {
   "cell_type": "markdown",
   "id": "ceebd17a",
   "metadata": {},
   "source": [
    "# Nested Condition: "
   ]
  },
  {
   "cell_type": "code",
   "execution_count": 5,
   "id": "e9e9c434",
   "metadata": {},
   "outputs": [
    {
     "name": "stdout",
     "output_type": "stream",
     "text": [
      "Enter the wheather:stormy\n",
      "Enter the speed of the wind:90\n",
      "I will not pay\n"
     ]
    }
   ],
   "source": [
    "w=input(\"Enter the wheather:\")\n",
    "if w==\"sunny\":\n",
    "    temp=float(input(\"Enter the temperature:\"))\n",
    "    if temp>45:\n",
    "        humid=input(\"Enter humid or not:\")\n",
    "        if humid==\"yes\":\n",
    "            print(\"I will not play\")\n",
    "        else:\n",
    "            print(\"I will play\")\n",
    "    elif temp<=45:\n",
    "        print(\"I will play\")\n",
    "elif w==\"stormy\":\n",
    "    w_speed=float(input(\"Enter the speed of the wind:\"))\n",
    "    if w_speed>80:\n",
    "        print(\"I will not pay\")\n",
    "    else:\n",
    "        print(\"I will play\")\n",
    "elif w==\"cold\":\n",
    "    cold_temp=int(input(\"Enter the cold temp:\"))\n",
    "    if cold_temp<5:\n",
    "        print(\"Stay Back\")\n",
    "    else:\n",
    "        print(\"Lets play\")\n",
    "else:\n",
    "    print(\"I will play\")   "
   ]
  },
  {
   "cell_type": "code",
   "execution_count": 2,
   "id": "7af87afd",
   "metadata": {},
   "outputs": [
    {
     "name": "stdout",
     "output_type": "stream",
     "text": [
      "Enter the choice: \n",
      " 1.Pizza\n",
      " 2.Burger \n",
      "Burger\n",
      "Enter veg or non_veg:non_veg\n",
      "enter the toppings: paneer or chicken:chicken\n",
      "Enter the size:larger\n",
      "Rs320\n"
     ]
    }
   ],
   "source": [
    "menu=input(\"Enter the choice: \\n 1.Pizza\\n 2.Burger \\n\")\n",
    "type=input(\"Enter veg or non_veg:\")\n",
    "toppings=input(\"enter the toppings: paneer or chicken:\")\n",
    "\n",
    "if menu==\"Pizza\":\n",
    "    if type==\"veg\":\n",
    "        size=input(\"Enter the size:\")\n",
    "        if size==\"regular\" and toppings==\"paneer\":\n",
    "            print(\"Rs180\")\n",
    "        elif size==\"medium\" and toppings==\"paneer\":\n",
    "            print(\"Rs320\")\n",
    "        elif size==\"larger\" and toppings==\"paneer\":\n",
    "            print(\"Rs520\")\n",
    "    else:\n",
    "        size=input(\"Enter the size:\")\n",
    "        if size==\"regular\" and toppings==\"chicken\":\n",
    "            print(\"Rs280\")\n",
    "        elif size==\"medium\" and toppings==\"chicken\":\n",
    "            print(\"Rs420\")\n",
    "        elif size==\"larger\" and toppings==\"chicken\":\n",
    "            print(\"Rs620\")\n",
    "elif menu==\"Burger\":\n",
    "    if type==\"veg\":\n",
    "        size=input(\"Enter the size:\")\n",
    "        if size==\"regular\" and toppings==\"paneer\":\n",
    "            print(\"Rs120\")\n",
    "        elif size==\"medium\" and toppings==\"paneer\":\n",
    "            print(\"Rs220\")\n",
    "        elif size==\"larger\" and toppings==\"paneer\":\n",
    "            print(\"Rs320\")\n",
    "    else:\n",
    "        size=input(\"Enter the size:\")\n",
    "        if size==\"regular\" and toppings==\"chicken\":\n",
    "            print(\"Rs180\")\n",
    "        elif size==\"medium\" and toppings==\"chicken\":\n",
    "            print(\"Rs220\")\n",
    "        elif size==\"larger\" and toppings==\"chicken\":\n",
    "            print(\"Rs320\")"
   ]
  },
  {
   "cell_type": "code",
   "execution_count": 1,
   "id": "2074d72e",
   "metadata": {},
   "outputs": [
    {
     "name": "stdout",
     "output_type": "stream",
     "text": [
      "Enter the category: \n",
      " 1.electronics\n",
      " 2.baby_products\n",
      " 3.clothes\n",
      " 4.grooming\n",
      " 5.groceries\n",
      "clothes\n",
      "Enter the gender: \n",
      " 1.male\n",
      " 2.female\n",
      "male\n",
      "Big billion sale of discount:15%\n"
     ]
    }
   ],
   "source": [
    "# There is big billion sale at flipkart:\n",
    "# products category: electronics,baby products, clothes,grooming,groceries\n",
    "# if the product category is electronics:\n",
    "#             laptop:30%\n",
    "#             phones:10%\n",
    "#             tv:20%\n",
    "#             headphones:5%\n",
    "# if category is baby products: flat 40% off\n",
    "# if clothes:\n",
    "#     male:15%\n",
    "#     female:20%\n",
    "\n",
    "\n",
    "category=input(\"Enter the category: \\n 1.electronics\\n 2.baby_products\\n 3.clothes\\n 4.grooming\\n 5.groceries\\n\")\n",
    "if category==\"electronics\":\n",
    "    item=input(\"Enter the item: \\n 1.Laptop\\n 2.phones\\n 3.tv\\n 4.headphones\\n\")\n",
    "    if item==\"Laptop\":\n",
    "        print(\"Big billion sale of discount:30%\")\n",
    "    elif item==\"phones\":\n",
    "        print(\"Big billion sale of discount:10%\")\n",
    "    elif item==\"tv\":\n",
    "        print(\"Big billion sale of discount:20%\")\n",
    "    elif item==\"headphones\":\n",
    "        print(\"Big billion sale of discount:5%\")\n",
    "elif category==\"baby_products\":\n",
    "    print(\"Big billion sale of discount:flat 40%\")\n",
    "elif category==\"clothes\":\n",
    "    gender=input(\"Enter the gender: \\n 1.male\\n 2.female\\n\")\n",
    "    if gender==\"male\":\n",
    "        print(\"Big billion sale of discount:15%\")\n",
    "    elif gender==\"female\":\n",
    "        print(\"Big billion sale of discount:20%\")\n",
    "elif category==\"grooming\":\n",
    "    print(\"Big billion sale of discount:Nil\")\n",
    "elif category==\"groceries\":\n",
    "    print(\"Big billion sale of discount:Nil\")"
   ]
  },
  {
   "cell_type": "code",
   "execution_count": 3,
   "id": "a49eaeb3",
   "metadata": {},
   "outputs": [
    {
     "name": "stdout",
     "output_type": "stream",
     "text": [
      "Enter the wheather: \n",
      " rainy\n",
      "rainy\n",
      "Enter the situation:I'm still fine unless it's raining and it's a workday\n",
      "I said that I am safe from today's wheather\n"
     ]
    }
   ],
   "source": [
    "# We talked about deciding whether we are prepared for the wheather. I said that I am safe from today's wheather if....\n",
    "# I have an umbrella\n",
    "# or if the rain isn't too heavy and I have a hood.\n",
    "# otherwise, I'm still fine unless it's raining and it's a workday.\n",
    "\n",
    "w=input(\"Enter the wheather: \\n rainy\\n\")\n",
    "if w==\"rainy\":\n",
    "    situation=input(\"Enter the situation:\")\n",
    "    if situation==\"I have an umbrella\":\n",
    "        print(\"I said that I am safe from today's wheather\")\n",
    "    elif situation==\"if the rain isn't too heavy and I have a hood\":\n",
    "        print(\"I said that I am safe from today's wheather\")\n",
    "    elif situation==\"I'm still fine unless it's raining and it's a workday\":\n",
    "        print(\"I said that I am safe from today's wheather\")"
   ]
  },
  {
   "cell_type": "code",
   "execution_count": 5,
   "id": "31ebcc69",
   "metadata": {},
   "outputs": [
    {
     "name": "stdout",
     "output_type": "stream",
     "text": [
      "yes or no: no\n",
      "yes or no: yes\n",
      "yes or no: no\n",
      "yes or no: yes\n",
      "safe\n"
     ]
    }
   ],
   "source": [
    "# We talked about deciding whether we are prepared for the wheather. I said that I am safe from today's wheather if....\n",
    "# I have an umbrella\n",
    "# or if the rain isn't too heavy and I have a hood.\n",
    "# otherwise, I'm still fine unless it's raining and it's a workday.\n",
    "\n",
    "\n",
    "have_umb=input(\"yes or no: \")\n",
    "have_hood=input(\"yes or no: \")\n",
    "rain_type=input(\"yes or no: \")\n",
    "wd=input(\"yes or no: \")\n",
    "if wd==\"yes\":\n",
    "    if rain_type==\"yes\":\n",
    "        if have_umb==\"yes\":\n",
    "            print(\"safe\")\n",
    "        else:\n",
    "            print(\"not safe\")\n",
    "    else:\n",
    "        if have_hood==\"yes\":\n",
    "            print(\"safe\")\n",
    "        else:\n",
    "            print(\"not safe\")\n",
    "else:\n",
    "    print(\"enjoy pakode\")"
   ]
  },
  {
   "cell_type": "code",
   "execution_count": null,
   "id": "e21eacaf",
   "metadata": {},
   "outputs": [],
   "source": []
  }
 ],
 "metadata": {
  "kernelspec": {
   "display_name": "Python 3",
   "language": "python",
   "name": "python3"
  },
  "language_info": {
   "codemirror_mode": {
    "name": "ipython",
    "version": 3
   },
   "file_extension": ".py",
   "mimetype": "text/x-python",
   "name": "python",
   "nbconvert_exporter": "python",
   "pygments_lexer": "ipython3",
   "version": "3.8.8"
  }
 },
 "nbformat": 4,
 "nbformat_minor": 5
}
