{
 "cells": [
  {
   "cell_type": "raw",
   "id": "33519f52",
   "metadata": {},
   "source": [
    "#File: A named location where some info are saved or stored."
   ]
  },
  {
   "cell_type": "raw",
   "id": "7116d297",
   "metadata": {},
   "source": [
    "#Volatile memory: temporary. example- RAM\n",
    "#Non-Volatile memory: permanent. example- Hard Disk/SSD"
   ]
  },
  {
   "cell_type": "code",
   "execution_count": null,
   "id": "c349acef",
   "metadata": {},
   "outputs": [],
   "source": [
    "x= create\n",
    "r= read\n",
    "w= write\n",
    "a= append\n",
    "+= "
   ]
  },
  {
   "cell_type": "code",
   "execution_count": 1,
   "id": "d103ef8d",
   "metadata": {},
   "outputs": [
    {
     "data": {
      "text/plain": [
       "39"
      ]
     },
     "execution_count": 1,
     "metadata": {},
     "output_type": "execute_result"
    }
   ],
   "source": [
    "file= open(\"abc.txt\",\"x\")\n",
    "file.write(\"This is cat\\nThe dog\\nIt is hot outside\\n\")"
   ]
  },
  {
   "cell_type": "code",
   "execution_count": 2,
   "id": "be03bf4d",
   "metadata": {},
   "outputs": [
    {
     "data": {
      "text/plain": [
       "38"
      ]
     },
     "execution_count": 2,
     "metadata": {},
     "output_type": "execute_result"
    }
   ],
   "source": [
    "len(\"This is cat\\nThe dog\\nIt is hot outside\\n\")"
   ]
  },
  {
   "cell_type": "code",
   "execution_count": 3,
   "id": "6006328d",
   "metadata": {},
   "outputs": [
    {
     "name": "stdout",
     "output_type": "stream",
     "text": [
      "This is cat\n",
      "\n",
      "The dog\n",
      "\n",
      " It is hot outside\n",
      "\n"
     ]
    }
   ],
   "source": [
    "file=open(\"abc.txt\",\"r\")\n",
    "for i in file:\n",
    "    print(i)"
   ]
  },
  {
   "cell_type": "code",
   "execution_count": 4,
   "id": "49fab248",
   "metadata": {},
   "outputs": [
    {
     "data": {
      "text/plain": [
       "'This is cat\\nThe dog\\n It is hot outside\\n'"
      ]
     },
     "execution_count": 4,
     "metadata": {},
     "output_type": "execute_result"
    }
   ],
   "source": [
    "\n",
    "file=open(\"abc.txt\",\"r\")\n",
    "file.read()"
   ]
  },
  {
   "cell_type": "code",
   "execution_count": 5,
   "id": "4a6d8199",
   "metadata": {},
   "outputs": [
    {
     "data": {
      "text/plain": [
       "16"
      ]
     },
     "execution_count": 5,
     "metadata": {},
     "output_type": "execute_result"
    }
   ],
   "source": [
    "file=open(\"abc.txt\",\"a\")\n",
    "file.write(\"Today is Monday\\n\")"
   ]
  },
  {
   "cell_type": "code",
   "execution_count": 7,
   "id": "1dc4cea4",
   "metadata": {},
   "outputs": [
    {
     "name": "stdout",
     "output_type": "stream",
     "text": [
      "This is cat\n",
      "\n",
      "The dog\n",
      "\n",
      " It is hot outside\n",
      "\n",
      "Today is Monday\n",
      "\n"
     ]
    }
   ],
   "source": [
    "file=open(\"abc.txt\",\"r\")\n",
    "for i in file:\n",
    "    print(i)"
   ]
  },
  {
   "cell_type": "code",
   "execution_count": 9,
   "id": "5f04bdeb",
   "metadata": {},
   "outputs": [
    {
     "data": {
      "text/plain": [
       "'This is cat\\nThe dog\\n It is hot outside\\nToday is Monday\\n'"
      ]
     },
     "execution_count": 9,
     "metadata": {},
     "output_type": "execute_result"
    }
   ],
   "source": [
    "\n",
    "file= open(\"abc.txt\",\"r\")\n",
    "file.read()"
   ]
  },
  {
   "cell_type": "code",
   "execution_count": 12,
   "id": "0b6a25f7",
   "metadata": {},
   "outputs": [
    {
     "data": {
      "text/plain": [
       "20"
      ]
     },
     "execution_count": 12,
     "metadata": {},
     "output_type": "execute_result"
    }
   ],
   "source": [
    "file=open(\"abc.txt\",\"w\")\n",
    "file.write(\"Tommorrow is Tuesday\")"
   ]
  },
  {
   "cell_type": "code",
   "execution_count": 13,
   "id": "31bea271",
   "metadata": {},
   "outputs": [
    {
     "data": {
      "text/plain": [
       "'Tommorrow is Tuesday'"
      ]
     },
     "execution_count": 13,
     "metadata": {},
     "output_type": "execute_result"
    }
   ],
   "source": [
    "file=open(\"abc.txt\",\"r\")\n",
    "file.read()"
   ]
  },
  {
   "cell_type": "code",
   "execution_count": 14,
   "id": "a2fe4e6e",
   "metadata": {},
   "outputs": [
    {
     "name": "stdout",
     "output_type": "stream",
     "text": [
      "Tommorrow is Tuesday\n"
     ]
    }
   ],
   "source": [
    "with open(\"abc.txt\",\"r\") as f:\n",
    "    print(f.read())"
   ]
  },
  {
   "cell_type": "code",
   "execution_count": 15,
   "id": "4d420ec0",
   "metadata": {},
   "outputs": [
    {
     "data": {
      "text/plain": [
       "69"
      ]
     },
     "execution_count": 15,
     "metadata": {},
     "output_type": "execute_result"
    }
   ],
   "source": [
    "#WAp to create a sports.txt and add five sports personalities\n",
    "\n",
    "file=open(\"soprts.txt\",\"x\")\n",
    "file.write(\"Sachin_Tendulkar, Sourav_Gaunguly, Gautam_Gambhir, Virat_Kholi, Dhoni\")"
   ]
  },
  {
   "cell_type": "code",
   "execution_count": 16,
   "id": "8f21c338",
   "metadata": {},
   "outputs": [
    {
     "data": {
      "text/plain": [
       "'Sachin_Tendulkar, Sourav_Gaunguly, Gautam_Gambhir, Virat_Kholi, Dhoni'"
      ]
     },
     "execution_count": 16,
     "metadata": {},
     "output_type": "execute_result"
    }
   ],
   "source": [
    "file=open(\"soprts.txt\",\"r\")\n",
    "file.read()"
   ]
  },
  {
   "cell_type": "code",
   "execution_count": 29,
   "id": "c3f0f655",
   "metadata": {},
   "outputs": [],
   "source": [
    "with open(\"sports0.txt\",\"x\") as file:\n",
    "    file.write(\"Sachin_Tendulkar\\n Sourav_Gaunguly\\n Gautam_Gambhir\\n Virat_Kholi\\n Dhoni\\n\")"
   ]
  },
  {
   "cell_type": "code",
   "execution_count": 30,
   "id": "a9af67ae",
   "metadata": {},
   "outputs": [
    {
     "name": "stdout",
     "output_type": "stream",
     "text": [
      "Sachin_Tendulkar\n",
      " Sourav_Gaunguly\n",
      " Gautam_Gambhir\n",
      " Virat_Kholi\n",
      " Dhoni\n",
      "\n"
     ]
    }
   ],
   "source": [
    "with open(\"sports0.txt\",\"r\") as file:\n",
    "    print(file.read())"
   ]
  },
  {
   "cell_type": "code",
   "execution_count": 32,
   "id": "3e339408",
   "metadata": {},
   "outputs": [],
   "source": [
    "with open(\"sports0.txt\",\"a\") as f:\n",
    "    f.writelines([\"Sehwag\\n\",\"Dravid\\n\",\"Dada\\n\",\"Kapil\\n\"])"
   ]
  },
  {
   "cell_type": "code",
   "execution_count": 37,
   "id": "b81634e1",
   "metadata": {},
   "outputs": [
    {
     "name": "stdout",
     "output_type": "stream",
     "text": [
      "Enter the five more names: \"Gayle\\n\" \"Lara\\n\" \"Jaya\\n\" \"Sanga\\n\" \"Sushma\\n\"\n"
     ]
    }
   ],
   "source": [
    "with open(\"sports0.txt\",\"a\") as f:\n",
    "    f.writelines(input(\"Enter the five more names: \").split())"
   ]
  },
  {
   "cell_type": "code",
   "execution_count": 38,
   "id": "86cee350",
   "metadata": {},
   "outputs": [
    {
     "name": "stdout",
     "output_type": "stream",
     "text": [
      "Sachin_Tendulkar\n",
      " Sourav_Gaunguly\n",
      " Gautam_Gambhir\n",
      " Virat_Kholi\n",
      " Dhoni\n",
      "Sehwag\n",
      "Dravid\n",
      "Dada\n",
      "Kapil\n",
      "Sehwag\n",
      "Dravid\n",
      "Dada\n",
      "Kapil\n",
      "Gayle\\nLara\\nJaya\\nSanga\\nSushma\\n\"Gayle\\nLara\\nJaya\\nSanga\\nSushma\\n\"\"Gayle\\n\"\"Lara\\n\"\"Jaya\\n\"\"Sanga\\n\"\"Sushma\\n\"\n"
     ]
    }
   ],
   "source": [
    "with open(\"sports0.txt\",\"r\") as f:\n",
    "    print(f.read())"
   ]
  },
  {
   "cell_type": "code",
   "execution_count": 41,
   "id": "d0771c79",
   "metadata": {},
   "outputs": [
    {
     "ename": "AttributeError",
     "evalue": "'_io.TextIOWrapper' object has no attribute 'pop'",
     "output_type": "error",
     "traceback": [
      "\u001b[1;31m---------------------------------------------------------------------------\u001b[0m",
      "\u001b[1;31mAttributeError\u001b[0m                            Traceback (most recent call last)",
      "\u001b[1;32m<ipython-input-41-cbc96724dae7>\u001b[0m in \u001b[0;36m<module>\u001b[1;34m\u001b[0m\n\u001b[0;32m      1\u001b[0m \u001b[1;32mwith\u001b[0m \u001b[0mopen\u001b[0m\u001b[1;33m(\u001b[0m\u001b[1;34m\"sports0.txt\"\u001b[0m\u001b[1;33m,\u001b[0m\u001b[1;34m\"r\"\u001b[0m\u001b[1;33m)\u001b[0m \u001b[1;32mas\u001b[0m \u001b[0mf\u001b[0m\u001b[1;33m:\u001b[0m\u001b[1;33m\u001b[0m\u001b[1;33m\u001b[0m\u001b[0m\n\u001b[0;32m      2\u001b[0m     \u001b[0ml\u001b[0m\u001b[1;33m=\u001b[0m\u001b[1;33m(\u001b[0m\u001b[0mf\u001b[0m\u001b[1;33m.\u001b[0m\u001b[0mread\u001b[0m\u001b[1;33m(\u001b[0m\u001b[1;33m)\u001b[0m\u001b[1;33m)\u001b[0m\u001b[1;33m\u001b[0m\u001b[1;33m\u001b[0m\u001b[0m\n\u001b[1;32m----> 3\u001b[1;33m     \u001b[0mf\u001b[0m\u001b[1;33m.\u001b[0m\u001b[0mpop\u001b[0m\u001b[1;33m(\u001b[0m\u001b[1;33m)\u001b[0m\u001b[1;33m\u001b[0m\u001b[1;33m\u001b[0m\u001b[0m\n\u001b[0m",
      "\u001b[1;31mAttributeError\u001b[0m: '_io.TextIOWrapper' object has no attribute 'pop'"
     ]
    }
   ],
   "source": [
    "with open(\"sports0.txt\",\"r\") as f:\n",
    "    l=(f.read())\n",
    "    f.pop()"
   ]
  },
  {
   "cell_type": "code",
   "execution_count": 43,
   "id": "6addc0aa",
   "metadata": {},
   "outputs": [
    {
     "ename": "AttributeError",
     "evalue": "'str' object has no attribute 'append'",
     "output_type": "error",
     "traceback": [
      "\u001b[1;31m---------------------------------------------------------------------------\u001b[0m",
      "\u001b[1;31mAttributeError\u001b[0m                            Traceback (most recent call last)",
      "\u001b[1;32m<ipython-input-43-74e66fbb22fe>\u001b[0m in \u001b[0;36m<module>\u001b[1;34m\u001b[0m\n\u001b[0;32m      1\u001b[0m \u001b[0ml\u001b[0m\u001b[1;33m\u001b[0m\u001b[1;33m\u001b[0m\u001b[0m\n\u001b[0;32m      2\u001b[0m \u001b[1;32mfor\u001b[0m \u001b[0mi\u001b[0m \u001b[1;32min\u001b[0m \u001b[0mrange\u001b[0m\u001b[1;33m(\u001b[0m\u001b[1;36m6\u001b[0m\u001b[1;33m)\u001b[0m\u001b[1;33m:\u001b[0m\u001b[1;33m\u001b[0m\u001b[1;33m\u001b[0m\u001b[0m\n\u001b[1;32m----> 3\u001b[1;33m     \u001b[0ml\u001b[0m\u001b[1;33m.\u001b[0m\u001b[0mappend\u001b[0m\u001b[1;33m(\u001b[0m\u001b[0minput\u001b[0m\u001b[1;33m(\u001b[0m\u001b[1;34m\"Enter the name: \"\u001b[0m\u001b[1;33m)\u001b[0m\u001b[1;33m+\u001b[0m\u001b[1;34m\"\\n\"\u001b[0m\u001b[1;33m)\u001b[0m\u001b[1;33m\u001b[0m\u001b[1;33m\u001b[0m\u001b[0m\n\u001b[0m",
      "\u001b[1;31mAttributeError\u001b[0m: 'str' object has no attribute 'append'"
     ]
    }
   ],
   "source": [
    "l\n",
    "for i in range(6):\n",
    "    l.append(input(\"Enter the name: \")+\"\\n\")"
   ]
  },
  {
   "cell_type": "code",
   "execution_count": 44,
   "id": "9b2354e8",
   "metadata": {},
   "outputs": [
    {
     "name": "stdout",
     "output_type": "stream",
     "text": [
      "Enter the 5 sports personalities: sachin\n",
      "Enter the 5 sports personalities: dhoni\n",
      "Enter the 5 sports personalities: ronaldo\n",
      "Enter the 5 sports personalities: messi\n",
      "Enter the 5 sports personalities: neymar\n"
     ]
    }
   ],
   "source": [
    "with open(\"sports2.txt\",\"x\") as f:\n",
    "    for i in range(5):\n",
    "        f.write(input(\"Enter the 5 sports personalities: \"))\n",
    "        f.write(\"\\n\")"
   ]
  },
  {
   "cell_type": "code",
   "execution_count": 45,
   "id": "6f09a44f",
   "metadata": {},
   "outputs": [
    {
     "name": "stdout",
     "output_type": "stream",
     "text": [
      "sachin\n",
      "dhoni\n",
      "ronaldo\n",
      "messi\n",
      "neymar\n",
      "\n"
     ]
    }
   ],
   "source": [
    "with open(\"sports2.txt\",\"r\") as f:\n",
    "    print(f.read())"
   ]
  },
  {
   "cell_type": "code",
   "execution_count": 46,
   "id": "a5f0be50",
   "metadata": {},
   "outputs": [
    {
     "name": "stdout",
     "output_type": "stream",
     "text": [
      "sachin\n",
      "\n"
     ]
    }
   ],
   "source": [
    "with open(\"sports2.txt\",\"r\") as f:\n",
    "    print(f.readline())"
   ]
  },
  {
   "cell_type": "code",
   "execution_count": 47,
   "id": "134d58bf",
   "metadata": {},
   "outputs": [
    {
     "name": "stdout",
     "output_type": "stream",
     "text": [
      "['sachin\\n', 'dhoni\\n', 'ronaldo\\n', 'messi\\n', 'neymar\\n']\n"
     ]
    }
   ],
   "source": [
    "with open(\"sports2.txt\",\"r\") as f:\n",
    "    print(f.readlines())"
   ]
  },
  {
   "cell_type": "code",
   "execution_count": 51,
   "id": "8d0a0ba4",
   "metadata": {},
   "outputs": [
    {
     "data": {
      "text/plain": [
       "'ronaldo\\n'"
      ]
     },
     "execution_count": 51,
     "metadata": {},
     "output_type": "execute_result"
    }
   ],
   "source": [
    "with open(\"sports2.txt\",\"r\") as f:\n",
    "    l=f.readlines()\n",
    "l[2]"
   ]
  },
  {
   "cell_type": "code",
   "execution_count": 1,
   "id": "20553d3f",
   "metadata": {},
   "outputs": [],
   "source": [
    "#Wap to create two files one will be the game and other file will be the sports persinalities playing it and print the corresponding game with personality name in a dictionary.\n",
    "\n",
    "\n",
    "with open(\"game.txt\",\"x\") as f:\n",
    "    f.write(\"cricket\\nfootball\\nbadmition\\ntennis\\n\")"
   ]
  },
  {
   "cell_type": "code",
   "execution_count": 2,
   "id": "14a8b068",
   "metadata": {},
   "outputs": [],
   "source": [
    "with open(\"person.txt\",\"x\") as f:\n",
    "    f.write(\"sachin\\nronaldo\\nsindhu\\nnadal\\n\")"
   ]
  },
  {
   "cell_type": "code",
   "execution_count": 3,
   "id": "8a46dee2",
   "metadata": {},
   "outputs": [
    {
     "name": "stdout",
     "output_type": "stream",
     "text": [
      "['cricket\\n', 'football\\n', 'badmition\\n', 'tennis\\n']\n",
      "['sachin\\n', 'ronaldo\\n', 'sindhu\\n', 'nadal\\n']\n"
     ]
    }
   ],
   "source": [
    "with open(\"game.txt\") as f:\n",
    "    game=f.readlines()\n",
    "with open(\"person.txt\") as file:\n",
    "    person=file.readlines()\n",
    "    \n",
    "print(game)\n",
    "print(person)"
   ]
  },
  {
   "cell_type": "code",
   "execution_count": 4,
   "id": "4f3fd7f8",
   "metadata": {},
   "outputs": [
    {
     "data": {
      "text/plain": [
       "{'cricket\\n': 'sachin\\n',\n",
       " 'football\\n': 'ronaldo\\n',\n",
       " 'badmition\\n': 'sindhu\\n',\n",
       " 'tennis\\n': 'nadal\\n'}"
      ]
     },
     "execution_count": 4,
     "metadata": {},
     "output_type": "execute_result"
    }
   ],
   "source": [
    "dict(zip(game,person))"
   ]
  },
  {
   "cell_type": "code",
   "execution_count": 5,
   "id": "745a9805",
   "metadata": {},
   "outputs": [
    {
     "name": "stdout",
     "output_type": "stream",
     "text": [
      "\n",
      "football\n",
      "badmition\n",
      "tennis\n",
      "\n"
     ]
    }
   ],
   "source": [
    "with open(\"game.txt\",\"r+\") as f:\n",
    "    f.write(\"hockey\\n\")\n",
    "    print(f.read())"
   ]
  },
  {
   "cell_type": "code",
   "execution_count": 7,
   "id": "2402c2b6",
   "metadata": {},
   "outputs": [
    {
     "name": "stdout",
     "output_type": "stream",
     "text": [
      "hockey\n",
      "\n",
      "football\n",
      "badmition\n",
      "tennis\n",
      "\n"
     ]
    }
   ],
   "source": [
    "with open(\"game.txt\") as f:\n",
    "    print(f.read())"
   ]
  },
  {
   "cell_type": "code",
   "execution_count": 9,
   "id": "39e9aac0",
   "metadata": {},
   "outputs": [
    {
     "name": "stdout",
     "output_type": "stream",
     "text": [
      "sachin\n",
      "ronaldo\n",
      "sindhu\n",
      "nadal\n",
      "\n",
      "10\n"
     ]
    }
   ],
   "source": [
    "with open(\"person.txt\",\"r+\") as f:\n",
    "    print(f.read())\n",
    "    print(f.write(\"dhyanchand\"))"
   ]
  },
  {
   "cell_type": "code",
   "execution_count": 10,
   "id": "7f289cbe",
   "metadata": {},
   "outputs": [
    {
     "name": "stdout",
     "output_type": "stream",
     "text": [
      "sachin\n",
      "ronaldo\n",
      "sindhu\n",
      "nadal\n",
      "dhyanchand\n"
     ]
    }
   ],
   "source": [
    "with open(\"person.txt\",\"r+\") as f:\n",
    "    print(f.read())"
   ]
  },
  {
   "cell_type": "code",
   "execution_count": 12,
   "id": "4e8ef287",
   "metadata": {},
   "outputs": [
    {
     "name": "stdout",
     "output_type": "stream",
     "text": [
      "4\n",
      "\n"
     ]
    }
   ],
   "source": [
    "with open(\"person.txt\",\"a+\") as f:\n",
    "    print(f.write(\"bolt\"))\n",
    "    print(f.read())"
   ]
  },
  {
   "cell_type": "code",
   "execution_count": 13,
   "id": "b028d20e",
   "metadata": {},
   "outputs": [
    {
     "name": "stdout",
     "output_type": "stream",
     "text": [
      "6\n",
      "\n"
     ]
    }
   ],
   "source": [
    "with open(\"person.txt\",\"w+\") as f:\n",
    "    print(f.write(\"dhoni\\n\"))\n",
    "    print(f.read())"
   ]
  },
  {
   "cell_type": "code",
   "execution_count": 14,
   "id": "cce62f01",
   "metadata": {},
   "outputs": [
    {
     "name": "stdout",
     "output_type": "stream",
     "text": [
      "6\n",
      "\n"
     ]
    }
   ],
   "source": [
    "with open(\"person1.txt\",\"x+\") as f:\n",
    "    print(f.write(\"dfwef\\n\"))\n",
    "    print(f.read())"
   ]
  },
  {
   "cell_type": "code",
   "execution_count": 26,
   "id": "a76883dd",
   "metadata": {},
   "outputs": [
    {
     "name": "stdout",
     "output_type": "stream",
     "text": [
      "None\n"
     ]
    }
   ],
   "source": [
    "L=[\"this is Delhi\\n\",\"this is MUmbai\\n\",\"this is Paris\\n\"]\n",
    "\n",
    "with open(\"t.txt\",\"x\") as f:\n",
    "    print(f.writelines(L))"
   ]
  },
  {
   "cell_type": "code",
   "execution_count": 27,
   "id": "748c6739",
   "metadata": {},
   "outputs": [
    {
     "data": {
      "text/plain": [
       "['this is Delhi\\n', 'this is MUmbai\\n', 'this is Paris\\n']"
      ]
     },
     "execution_count": 27,
     "metadata": {},
     "output_type": "execute_result"
    }
   ],
   "source": [
    "with open(\"t.txt\",\"r\") as f:\n",
    "    s=f.readlines()\n",
    "s"
   ]
  },
  {
   "cell_type": "code",
   "execution_count": 35,
   "id": "ad13f171",
   "metadata": {},
   "outputs": [
    {
     "data": {
      "text/plain": [
       "{'this': 3, 'is': 3, 'Delhi': 1, 'MUmbai': 1, 'Paris': 1}"
      ]
     },
     "execution_count": 35,
     "metadata": {},
     "output_type": "execute_result"
    }
   ],
   "source": [
    "L=[]\n",
    "for i in s:\n",
    "    L.append(i.split())\n",
    "L\n",
    "L1=[]\n",
    "for i in L:\n",
    "    #print(i)\n",
    "    for j in i:\n",
    "        L1.append(j)\n",
    "L1\n",
    "d={}\n",
    "for i in L1:\n",
    "    d[i]=L1.count(i)\n",
    "d"
   ]
  },
  {
   "cell_type": "code",
   "execution_count": 36,
   "id": "bd0c4457",
   "metadata": {},
   "outputs": [
    {
     "data": {
      "text/plain": [
       "Counter({'this': 3, 'is': 3, 'Delhi': 1, 'MUmbai': 1, 'Paris': 1})"
      ]
     },
     "execution_count": 36,
     "metadata": {},
     "output_type": "execute_result"
    }
   ],
   "source": [
    "from collections import Counter\n",
    "with open(\"t.txt\") as f:\n",
    "    L=f.readlines()\n",
    "L1=[]\n",
    "L2=[]\n",
    "for i in L:\n",
    "    L1.append(i.split())\n",
    "for i in L1:\n",
    "    for j in i:\n",
    "        L2.append(j)\n",
    "        \n",
    "Counter(L2)"
   ]
  },
  {
   "cell_type": "code",
   "execution_count": 38,
   "id": "d32d1e3f",
   "metadata": {},
   "outputs": [
    {
     "data": {
      "text/plain": [
       "Counter({'m': 2, 'a': 2, 'd': 1})"
      ]
     },
     "execution_count": 38,
     "metadata": {},
     "output_type": "execute_result"
    }
   ],
   "source": [
    "s =\"madam\"\n",
    "Counter(s)"
   ]
  },
  {
   "cell_type": "markdown",
   "id": "04051ad6",
   "metadata": {},
   "source": [
    "### 3rd class of File Handling"
   ]
  },
  {
   "cell_type": "raw",
   "id": "7f638bbe",
   "metadata": {},
   "source": [
    "#OS module: operating system\n",
    "module/package/library\n",
    "file handling - rename and remove a file."
   ]
  },
  {
   "cell_type": "code",
   "execution_count": null,
   "id": "f16c6733",
   "metadata": {},
   "outputs": [],
   "source": [
    "import os\n",
    "os.rename(\"old_name of file\",\"new_name of file\")\n",
    "os.remove(\"file_name\")"
   ]
  },
  {
   "cell_type": "code",
   "execution_count": 5,
   "id": "d51554ec",
   "metadata": {},
   "outputs": [],
   "source": [
    "import os\n",
    "os.rename(\"place1.txt\",\"text1.txt\")"
   ]
  },
  {
   "cell_type": "raw",
   "id": "40cacce9",
   "metadata": {},
   "source": [
    "#Exception Handling:\n",
    "errors in programming which i am able to handle.\n",
    "except syntax error, all errors can be handled. "
   ]
  },
  {
   "cell_type": "code",
   "execution_count": 11,
   "id": "35a20d23",
   "metadata": {},
   "outputs": [
    {
     "name": "stdout",
     "output_type": "stream",
     "text": [
      "Enter the number: 50\n",
      "except will be executed\n",
      "Enter the number again!!!: 20\n",
      "0.25\n",
      "i will be executed irrespective of try being right or wrong: \n"
     ]
    }
   ],
   "source": [
    "try:\n",
    "    b=input(\"Enter the number: \")\n",
    "    c=5/b\n",
    "except:\n",
    "    print(\"except will be executed\")\n",
    "    b=int(input(\"Enter the number again!!!: \"))\n",
    "    c=5/b\n",
    "    print(c)\n",
    "else:\n",
    "    print(\"else will be executed i.e is me\")\n",
    "    print(c)\n",
    "finally:\n",
    "    print(\"i will be executed irrespective of try being right or wrong: \")"
   ]
  },
  {
   "cell_type": "raw",
   "id": "52ce7a30",
   "metadata": {},
   "source": [
    "#Nested try,except :"
   ]
  },
  {
   "cell_type": "code",
   "execution_count": 12,
   "id": "8a17e832",
   "metadata": {},
   "outputs": [
    {
     "name": "stdout",
     "output_type": "stream",
     "text": [
      "except will be executed\n",
      "21\n",
      "the cat\n",
      "name is\n",
      "mimi\n",
      "\n"
     ]
    }
   ],
   "source": [
    "try:\n",
    "    with open(\"s.txt\") as f:\n",
    "        print(f.write(\"India\\n\"))\n",
    "except:\n",
    "    print(\"except will be executed\")\n",
    "    try:\n",
    "        with open(\"s.txt\",\"x\") as f:\n",
    "            print(f.write(\"the cat\\nname is\\nmimi\\n\"))\n",
    "    except:\n",
    "        pass\n",
    "    else:\n",
    "        with open(\"s.txt\") as f:\n",
    "            print(f.read())"
   ]
  },
  {
   "cell_type": "code",
   "execution_count": 23,
   "id": "58100507",
   "metadata": {},
   "outputs": [
    {
     "name": "stdout",
     "output_type": "stream",
     "text": [
      "1.25\n"
     ]
    }
   ],
   "source": [
    "#Wap to do exception handling of zero div error:\n",
    "#i.e div a number with zero and handle that error.\n",
    "\n",
    "try:\n",
    "    c=5/0\n",
    "    print(c)\n",
    "except:\n",
    "    c=5/4\n",
    "    print(c)\n"
   ]
  },
  {
   "cell_type": "raw",
   "id": "b744c004",
   "metadata": {},
   "source": [
    "#Wap to open a file in write mode and read the content of the file, if some error occurs handle it using exception handling."
   ]
  },
  {
   "cell_type": "code",
   "execution_count": 2,
   "id": "5398125a",
   "metadata": {},
   "outputs": [
    {
     "name": "stdout",
     "output_type": "stream",
     "text": [
      "Enter the number: 1\n",
      "Enter the number: e\n",
      "Except got executed\n",
      "Number1: 30\n",
      "Number2: 30\n",
      "The sum of a+b is:  60\n",
      "Enter the number: 30\n",
      "Enter the number: 70\n",
      "100\n"
     ]
    }
   ],
   "source": [
    "#Wap to take two numbers and add it, until unless we do try correct, the program should ask for right inputs of the number.\n",
    "\n",
    "while True:\n",
    "    try:\n",
    "        a=int(input(\"Enter the number: \"))\n",
    "        b=int(input(\"Enter the number: \"))\n",
    "        c=a+b\n",
    "    except:\n",
    "        print(\"Except got executed\")\n",
    "        a=int(input(\"Number1: \"))\n",
    "        b=int(input(\"Number2: \"))\n",
    "        print(\"The sum of a+b is: \",a+b)\n",
    "    else:\n",
    "        print(c)\n",
    "        break"
   ]
  }
 ],
 "metadata": {
  "kernelspec": {
   "display_name": "Python 3",
   "language": "python",
   "name": "python3"
  },
  "language_info": {
   "codemirror_mode": {
    "name": "ipython",
    "version": 3
   },
   "file_extension": ".py",
   "mimetype": "text/x-python",
   "name": "python",
   "nbconvert_exporter": "python",
   "pygments_lexer": "ipython3",
   "version": "3.8.8"
  }
 },
 "nbformat": 4,
 "nbformat_minor": 5
}
