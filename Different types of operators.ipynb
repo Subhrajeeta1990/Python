{
 "cells": [
  {
   "cell_type": "markdown",
   "id": "2e128267",
   "metadata": {},
   "source": [
    "#Arithmatic Operations:"
   ]
  },
  {
   "cell_type": "code",
   "execution_count": 1,
   "id": "488cf353",
   "metadata": {},
   "outputs": [],
   "source": [
    "a=10\n",
    "b=15"
   ]
  },
  {
   "cell_type": "code",
   "execution_count": 4,
   "id": "c78e3f2b",
   "metadata": {},
   "outputs": [
    {
     "data": {
      "text/plain": [
       "25"
      ]
     },
     "execution_count": 4,
     "metadata": {},
     "output_type": "execute_result"
    }
   ],
   "source": [
    "c=a+b\n",
    "c"
   ]
  },
  {
   "cell_type": "code",
   "execution_count": 5,
   "id": "afc8b174",
   "metadata": {},
   "outputs": [
    {
     "data": {
      "text/plain": [
       "-5"
      ]
     },
     "execution_count": 5,
     "metadata": {},
     "output_type": "execute_result"
    }
   ],
   "source": [
    "d=a-b\n",
    "d"
   ]
  },
  {
   "cell_type": "code",
   "execution_count": 6,
   "id": "c2012455",
   "metadata": {},
   "outputs": [
    {
     "data": {
      "text/plain": [
       "150"
      ]
     },
     "execution_count": 6,
     "metadata": {},
     "output_type": "execute_result"
    }
   ],
   "source": [
    "m=a*b\n",
    "m"
   ]
  },
  {
   "cell_type": "code",
   "execution_count": 7,
   "id": "468a5ea4",
   "metadata": {},
   "outputs": [
    {
     "data": {
      "text/plain": [
       "0.6666666666666666"
      ]
     },
     "execution_count": 7,
     "metadata": {},
     "output_type": "execute_result"
    }
   ],
   "source": [
    "div=a/b\n",
    "div"
   ]
  },
  {
   "cell_type": "code",
   "execution_count": 8,
   "id": "0ea9dcc9",
   "metadata": {},
   "outputs": [
    {
     "data": {
      "text/plain": [
       "100"
      ]
     },
     "execution_count": 8,
     "metadata": {},
     "output_type": "execute_result"
    }
   ],
   "source": [
    "p=a**2\n",
    "p"
   ]
  },
  {
   "cell_type": "code",
   "execution_count": 9,
   "id": "9eb7a7e8",
   "metadata": {},
   "outputs": [
    {
     "data": {
      "text/plain": [
       "0"
      ]
     },
     "execution_count": 9,
     "metadata": {},
     "output_type": "execute_result"
    }
   ],
   "source": [
    "#Floor division: return only whole number.\n",
    "\n",
    "f=a//b\n",
    "f"
   ]
  },
  {
   "cell_type": "code",
   "execution_count": 10,
   "id": "5a8e95b7",
   "metadata": {},
   "outputs": [
    {
     "data": {
      "text/plain": [
       "10"
      ]
     },
     "execution_count": 10,
     "metadata": {},
     "output_type": "execute_result"
    }
   ],
   "source": [
    "modulo=a%b\n",
    "modulo"
   ]
  },
  {
   "cell_type": "code",
   "execution_count": null,
   "id": "70ecd6c3",
   "metadata": {},
   "outputs": [],
   "source": [
    "#PEMDAS:\n",
    "P=prenthesis()\n",
    "E=exponential\n",
    "M/D=multiply or division which ever is first\n",
    "A=Add\n",
    "S=subtract"
   ]
  },
  {
   "cell_type": "code",
   "execution_count": 20,
   "id": "ad43da0e",
   "metadata": {},
   "outputs": [
    {
     "data": {
      "text/plain": [
       "2"
      ]
     },
     "execution_count": 20,
     "metadata": {},
     "output_type": "execute_result"
    }
   ],
   "source": [
    "s=76\n",
    "su=24\n",
    "A=58\n",
    "R=71\n",
    "Sum=33\n",
    "An=49\n",
    "E=s+su+A+R+Sum\n",
    "E//5\n",
    "E%5\n"
   ]
  },
  {
   "cell_type": "code",
   "execution_count": 22,
   "id": "e64b01ec",
   "metadata": {},
   "outputs": [
    {
     "name": "stdout",
     "output_type": "stream",
     "text": [
      "Enter the weight: 56.76\n",
      "Enter the height: 1.89\n",
      "15.88981271520954\n"
     ]
    }
   ],
   "source": [
    "w=float(input(\"Enter the weight: \"))\n",
    "h=float(input(\"Enter the height: \"))\n",
    "BMI=w/h**2\n",
    "print(BMI)"
   ]
  },
  {
   "cell_type": "code",
   "execution_count": 23,
   "id": "c082a2c4",
   "metadata": {},
   "outputs": [
    {
     "name": "stdout",
     "output_type": "stream",
     "text": [
      "179503.3333333333\n"
     ]
    }
   ],
   "source": [
    "r=35\n",
    "pie=3.14\n",
    "v=4/3*pie*r**3\n",
    "print(v)"
   ]
  },
  {
   "cell_type": "code",
   "execution_count": 25,
   "id": "01ab6baa",
   "metadata": {},
   "outputs": [
    {
     "data": {
      "text/plain": [
       "1"
      ]
     },
     "execution_count": 25,
     "metadata": {},
     "output_type": "execute_result"
    }
   ],
   "source": [
    "(5-3)//2"
   ]
  },
  {
   "cell_type": "code",
   "execution_count": 28,
   "id": "d9e79d1b",
   "metadata": {},
   "outputs": [
    {
     "data": {
      "text/plain": [
       "90"
      ]
     },
     "execution_count": 28,
     "metadata": {},
     "output_type": "execute_result"
    }
   ],
   "source": [
    "a=ord(\"Z\")"
   ]
  },
  {
   "cell_type": "code",
   "execution_count": 29,
   "id": "feb8e653",
   "metadata": {},
   "outputs": [
    {
     "data": {
      "text/plain": [
       "122"
      ]
     },
     "execution_count": 29,
     "metadata": {},
     "output_type": "execute_result"
    }
   ],
   "source": [
    "b=ord(\"z\")"
   ]
  },
  {
   "cell_type": "code",
   "execution_count": 30,
   "id": "65cd2c32",
   "metadata": {},
   "outputs": [
    {
     "data": {
      "text/plain": [
       "False"
      ]
     },
     "execution_count": 30,
     "metadata": {},
     "output_type": "execute_result"
    }
   ],
   "source": [
    "a==b"
   ]
  }
 ],
 "metadata": {
  "kernelspec": {
   "display_name": "Python 3",
   "language": "python",
   "name": "python3"
  },
  "language_info": {
   "codemirror_mode": {
    "name": "ipython",
    "version": 3
   },
   "file_extension": ".py",
   "mimetype": "text/x-python",
   "name": "python",
   "nbconvert_exporter": "python",
   "pygments_lexer": "ipython3",
   "version": "3.8.8"
  }
 },
 "nbformat": 4,
 "nbformat_minor": 5
}
