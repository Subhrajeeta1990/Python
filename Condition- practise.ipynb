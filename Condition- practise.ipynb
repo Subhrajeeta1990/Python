{
 "cells": [
  {
   "cell_type": "code",
   "execution_count": 8,
   "id": "d38ef04f",
   "metadata": {},
   "outputs": [
    {
     "name": "stdout",
     "output_type": "stream",
     "text": [
      "Enter if he or she is of class9: \n",
      " 1.Yes\n",
      " 2.No\n",
      "Yes\n",
      "Enter the achievements: 7\n",
      "Enter the grade: A\n",
      "Enter the exp: \n",
      " 1.Yes\n",
      " 2.No\n",
      "Yes\n",
      "Enter if staying near to school: \n",
      " 1.Yes\n",
      " 2.No\n",
      "Yes\n",
      "Enter if checking the kits,playground and decide teams: \n",
      " 1.Yes\n",
      " 2.No\n",
      "Yes\n",
      "He or she is eligible to be Sports captain\n"
     ]
    }
   ],
   "source": [
    "#Wap to check the students eligibility for sports captain:\n",
    "    #1) both males and females would be considered if they fulfilled the following conditions:\n",
    "    #if if he or she should be student of class 9 and above atleast 2 achievements in the field of sports.\n",
    "    #have grade in last class greater than B+ and should have exp of leading a team of students and he or \n",
    "    #she should be taying somewhere near to school only and if should check conditions of kits, playground and decide \n",
    "    #teams for various other sports.\n",
    "\n",
    "class_9=input(\"Enter if he or she is of class9: \\n 1.Yes\\n 2.No\\n\")\n",
    "achievements=int(input(\"Enter the achievements: \"))\n",
    "grade=input(\"Enter the grade: \")\n",
    "exp=input(\"Enter the exp: \\n 1.Yes\\n 2.No\\n\")\n",
    "school=input(\"Enter if staying near to school: \\n 1.Yes\\n 2.No\\n\")\n",
    "check=input(\"Enter if checking the kits,playground and decide teams: \\n 1.Yes\\n 2.No\\n\")\n",
    "\n",
    "if class_9==\"Yes\" and achievements>=2 and grade==\"A\" or grade==\"A+\" and exp==\"Yes\" and school==\"Yes\" and check==\"Yes\":\n",
    "    print(\"He or she is eligible to be Sports captain\")\n",
    "else:\n",
    "    print(\"He or she is not eligible to be Sports captain\")"
   ]
  },
  {
   "cell_type": "code",
   "execution_count": null,
   "id": "bee8106c",
   "metadata": {},
   "outputs": [],
   "source": []
  },
  {
   "cell_type": "markdown",
   "id": "1a0573af",
   "metadata": {},
   "source": [
    "#Loops:\n",
    "-For and while"
   ]
  },
  {
   "cell_type": "code",
   "execution_count": null,
   "id": "b27452ab",
   "metadata": {},
   "outputs": [],
   "source": [
    "#for loop:\n",
    "1)start and stop\n",
    "range=start,stop, step\n"
   ]
  },
  {
   "cell_type": "code",
   "execution_count": 9,
   "id": "093a1674",
   "metadata": {},
   "outputs": [
    {
     "name": "stdout",
     "output_type": "stream",
     "text": [
      "1\n",
      "2\n",
      "3\n",
      "4\n",
      "5\n"
     ]
    }
   ],
   "source": [
    "for i in range(1,6):\n",
    "    print(i)"
   ]
  },
  {
   "cell_type": "code",
   "execution_count": 17,
   "id": "974b1093",
   "metadata": {},
   "outputs": [
    {
     "name": "stdout",
     "output_type": "stream",
     "text": [
      "5\n",
      "4\n",
      "3\n",
      "2\n",
      "1\n"
     ]
    }
   ],
   "source": [
    "for i in range(5,0,-1):\n",
    "    print(i)"
   ]
  },
  {
   "cell_type": "code",
   "execution_count": 19,
   "id": "e0ed9227",
   "metadata": {},
   "outputs": [
    {
     "name": "stdout",
     "output_type": "stream",
     "text": [
      "5\n",
      "10\n",
      "15\n",
      "20\n",
      "25\n",
      "30\n",
      "35\n",
      "40\n",
      "45\n",
      "50\n"
     ]
    }
   ],
   "source": [
    "#Print the table of 5\n",
    "\n",
    "for i in range(5,51,5):\n",
    "    print(i)"
   ]
  },
  {
   "cell_type": "code",
   "execution_count": 22,
   "id": "a08d50f8",
   "metadata": {},
   "outputs": [
    {
     "name": "stdout",
     "output_type": "stream",
     "text": [
      "Enter the number: 8\n",
      "8\n",
      "16\n",
      "24\n",
      "32\n",
      "40\n",
      "48\n",
      "56\n",
      "64\n",
      "72\n",
      "80\n"
     ]
    }
   ],
   "source": [
    "n=int(input(\"Enter the number: \"))\n",
    "for i in range(1,11):\n",
    "    print(n*i)"
   ]
  },
  {
   "cell_type": "code",
   "execution_count": 23,
   "id": "38263f7c",
   "metadata": {},
   "outputs": [
    {
     "name": "stdout",
     "output_type": "stream",
     "text": [
      "Enter the number: 5\n",
      "5 10 15 20 25 30 35 40 45 50 "
     ]
    }
   ],
   "source": [
    "n=int(input(\"Enter the number: \"))\n",
    "for i in range(1,11):\n",
    "    print(n*i,end=\" \")"
   ]
  },
  {
   "cell_type": "code",
   "execution_count": 29,
   "id": "c83361a1",
   "metadata": {},
   "outputs": [
    {
     "name": "stdout",
     "output_type": "stream",
     "text": [
      "Enter the number: 6\n",
      "60\n",
      "54\n",
      "48\n",
      "42\n",
      "36\n",
      "30\n",
      "24\n",
      "18\n",
      "12\n",
      "6\n"
     ]
    }
   ],
   "source": [
    "#Print table in reverse order\n",
    "\n",
    "n=int(input(\"Enter the number: \"))\n",
    "for i in range(10,0,-1):\n",
    "    print(n*i)"
   ]
  },
  {
   "cell_type": "code",
   "execution_count": 30,
   "id": "156148f2",
   "metadata": {},
   "outputs": [
    {
     "name": "stdout",
     "output_type": "stream",
     "text": [
      "1\n",
      "4\n",
      "9\n",
      "16\n",
      "25\n",
      "36\n",
      "49\n",
      "64\n",
      "81\n",
      "100\n",
      "121\n",
      "144\n",
      "169\n",
      "196\n",
      "225\n",
      "256\n",
      "289\n",
      "324\n",
      "361\n",
      "400\n"
     ]
    }
   ],
   "source": [
    "#print square of number from 1 to 20\n",
    "\n",
    "for i in range(1,21):\n",
    "    print(i**2)"
   ]
  },
  {
   "cell_type": "code",
   "execution_count": 8,
   "id": "218fa5cf",
   "metadata": {},
   "outputs": [
    {
     "name": "stdout",
     "output_type": "stream",
     "text": [
      "1\n",
      "4\n",
      "27\n",
      "16\n",
      "125\n",
      "36\n",
      "343\n",
      "64\n",
      "729\n",
      "100\n",
      "1331\n",
      "144\n",
      "2197\n",
      "196\n",
      "3375\n",
      "256\n",
      "4913\n",
      "324\n",
      "6859\n",
      "400\n"
     ]
    }
   ],
   "source": [
    "for i in range(1,21):\n",
    "    if i%2==0:\n",
    "        print(i**2)\n",
    "    else:\n",
    "        print(i**3)"
   ]
  },
  {
   "cell_type": "code",
   "execution_count": null,
   "id": "0c79fc12",
   "metadata": {},
   "outputs": [],
   "source": []
  }
 ],
 "metadata": {
  "kernelspec": {
   "display_name": "Python 3",
   "language": "python",
   "name": "python3"
  },
  "language_info": {
   "codemirror_mode": {
    "name": "ipython",
    "version": 3
   },
   "file_extension": ".py",
   "mimetype": "text/x-python",
   "name": "python",
   "nbconvert_exporter": "python",
   "pygments_lexer": "ipython3",
   "version": "3.8.8"
  }
 },
 "nbformat": 4,
 "nbformat_minor": 5
}
