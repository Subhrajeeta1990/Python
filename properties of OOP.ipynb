{
 "cells": [
  {
   "cell_type": "raw",
   "id": "98b64dcc",
   "metadata": {},
   "source": [
    "#Properties of OOP:\n",
    "- inheritance\n",
    "- polymorphism\n",
    "- data abstraction\n",
    "- data encapsulation"
   ]
  },
  {
   "cell_type": "markdown",
   "id": "0c982b93",
   "metadata": {},
   "source": [
    "#Inheritance:"
   ]
  },
  {
   "cell_type": "code",
   "execution_count": 2,
   "id": "2968f1c4",
   "metadata": {},
   "outputs": [
    {
     "name": "stdout",
     "output_type": "stream",
     "text": [
      "area of square is: 2**2=4\n",
      "perimeter of square is: 4*2=8\n"
     ]
    }
   ],
   "source": [
    "#WAC shape, take instance variable as sides, and then calculate area and perimeter of that particular shape.\n",
    "\n",
    "class shape:\n",
    "    class_type=\"square\"\n",
    "    def __init__(self,side): \n",
    "        self.side= side\n",
    "    def area(self):\n",
    "        area=self.side**2\n",
    "        print(f\"area of square is: {self.side}**2={area}\")\n",
    "    def perimeter(self):\n",
    "        perimeter=4*self.side\n",
    "        print(f\"perimeter of square is: 4*{self.side}={perimeter}\")\n",
    "c=shape(2)  \n",
    "c.area()\n",
    "c.perimeter()"
   ]
  },
  {
   "cell_type": "code",
   "execution_count": 13,
   "id": "608592a0",
   "metadata": {},
   "outputs": [
    {
     "name": "stdout",
     "output_type": "stream",
     "text": [
      "Enter the side as 1 or 2: 2\n",
      "enter the length: 5\n",
      "enter the breath: 7\n",
      "area of rec is:  35\n",
      "prerimeter of rec is:  24\n"
     ]
    }
   ],
   "source": [
    "class shape:\n",
    "    def __init__(self):\n",
    "        self.sides=int(input(\"Enter the side as 1 or 2: \"))\n",
    "    def areapr(self):\n",
    "        if self.sides==2:\n",
    "            l=int(input(\"enter the length: \"))\n",
    "            b=int(input(\"enter the breath: \"))\n",
    "            ar=l*b\n",
    "            pr=2*(l+b)\n",
    "            print(\"area of rec is: \",ar)\n",
    "            print(\"prerimeter of rec is: \",pr)\n",
    "        elif self.sides==1:\n",
    "            a= int(input(\"enter the side of square: \"))\n",
    "            ar=a**2\n",
    "            pr=4*a\n",
    "            print(\"area of square is: \",ar)\n",
    "            print(\"premiter of square is: \",pr)\n",
    "sh=shape()\n",
    "sh.areapr()"
   ]
  },
  {
   "cell_type": "code",
   "execution_count": 23,
   "id": "3115293b",
   "metadata": {},
   "outputs": [
    {
     "name": "stdout",
     "output_type": "stream",
     "text": [
      "enter the wheeler_of_veh: 4\n",
      "enter the fuel_type: petrol\n",
      "vehicle is of 4 capacity with type of fuel is petrol\n",
      "Ask user whether its car or bus: car\n",
      "sitting capacity: 6\n"
     ]
    }
   ],
   "source": [
    "#WAC vechile, define constructor of the class, take instance variables as wheeler of vechile,type of wheeler- petrol,diesel or electric. define a method of the class to print the details of the vechile also define a method sitting capacity. and if the wheeler is two- sitting capacity should e printed as 2 if the wheeler is 3 sitting capacity should be printed as 3 and if it 4, ask user whether its a car, bus. if its a car, print 6. if its bus say 50.\n",
    "\n",
    "\n",
    "class vechile:\n",
    "    def __init__(self,wov,tov):\n",
    "        self.wov= wov\n",
    "        self.tov= tov\n",
    "    def details(self):\n",
    "            print(f\"vehicle is of {self.wov} capacity with type of fuel is {self.tov}\")\n",
    "    def sitting_capacity(self):\n",
    "        if self.wov==2:\n",
    "                print(\"sitting capacity: 2\")\n",
    "        elif self.wov==3:\n",
    "                print(\"sitting capacity: 3\")\n",
    "        elif self.wov==4:\n",
    "                ask=input(\"Ask user whether its car or bus: \")\n",
    "                if ask==\"car\":\n",
    "                    print(\"sitting capacity: 6\")\n",
    "                elif ask==\"bus\":\n",
    "                    print(\"sitting capacity: 50\")\n",
    "c=vechile(int(input(\"enter the wheeler_of_veh: \")),input(\"enter the fuel_type: \"))\n",
    "c.details()\n",
    "c.sitting_capacity()"
   ]
  },
  {
   "cell_type": "code",
   "execution_count": 7,
   "id": "249653bb",
   "metadata": {},
   "outputs": [
    {
     "name": "stdout",
     "output_type": "stream",
     "text": [
      "Enter the name of the book: Big Data MBA\n",
      "Enter the name of the author: Bill Schmarzo\n",
      "Enter the price: 2429\n",
      "The name of the book is Big Data MBA written by Bill Schmarzo and the price is 2429\n"
     ]
    }
   ],
   "source": [
    "#define a book class with following attributes: title,author(full name), price. \n",
    "#Define a constructor used to initialise the attributes of the method with values enteres by the user.\n",
    "#set the view() method to display information for the current book. write a program to testing the book class.\n",
    "\n",
    "class book:\n",
    "    def __init__(self,tittle,author,price):\n",
    "        self.tittle = tittle\n",
    "        self.author = author\n",
    "        self.price = price\n",
    "    def view(self):\n",
    "        print(f\"The name of the book is {self.tittle} written by {self.author} and the price is {self.price}\")\n",
    "c=book((input(\"Enter the name of the book: \")),input(\"Enter the name of the author: \"),int(input(\"Enter the price: \")))\n",
    "c.view()\n",
    "    "
   ]
  },
  {
   "cell_type": "code",
   "execution_count": 7,
   "id": "2690c350",
   "metadata": {},
   "outputs": [
    {
     "name": "stdout",
     "output_type": "stream",
     "text": [
      "ankit singh\n",
      "the ankit singh is havinig empid 110023\n"
     ]
    }
   ],
   "source": [
    "# original\n",
    "\n",
    "class person:\n",
    "    def __init__(self,fname,lname):\n",
    "        self.fname = fname\n",
    "        self.lname = lname\n",
    "    def printname(self):\n",
    "        print(self.fname,self.lname)\n",
    "class Employee(person):\n",
    "    def __init__(self,fname,lname,empid):\n",
    "        self.empid = empid\n",
    "        person.__init__(self,fname,lname)\n",
    "    def details(self):\n",
    "        print(f\"the {self.fname} {self.lname} is havinig empid {self.empid}\")\n",
    "emp = Employee(\"ankit\",\"singh\",\"110023\")\n",
    "emp.printname()\n",
    "emp.fname\n",
    "emp.lname\n",
    "emp.details()"
   ]
  },
  {
   "cell_type": "code",
   "execution_count": 6,
   "id": "cf144f84",
   "metadata": {},
   "outputs": [
    {
     "name": "stdout",
     "output_type": "stream",
     "text": [
      "ankit singh\n"
     ]
    }
   ],
   "source": [
    "# duplicate\n",
    "class person:\n",
    "    def __init__(self,fname,lname):\n",
    "        self.fname = fname\n",
    "        self.lname = lname\n",
    "    def printname(self):\n",
    "        print(self.fname,self.lname)\n",
    "class Employee(person):\n",
    "    def __init__(self,fname,lname,empid):\n",
    "        self.empid = empid\n",
    "        person.__init__(self,fname,lname)\n",
    "    def details(self):\n",
    "        print(f\"the {self.fname} {self.lname} is havinig empid {self.empid}\")\n",
    "emp = Employee(\"ankit\",\"singh\",\"110023\")\n",
    "emp.printname()\n",
    "#emp.fname\n",
    "#emp.lname\n",
    "#emp.details()"
   ]
  },
  {
   "cell_type": "code",
   "execution_count": 2,
   "id": "7b1f8765",
   "metadata": {},
   "outputs": [
    {
     "name": "stdout",
     "output_type": "stream",
     "text": [
      "This is parent class init constructor\n",
      "Ankit Singh\n",
      "the Ankit Singh is havinig empid 110023\n"
     ]
    }
   ],
   "source": [
    "class person:\n",
    "    def __init__(self):\n",
    "        self.fname = \"Ankit\"\n",
    "        self.lname = \"Singh\"\n",
    "        print(\"This is parent class init constructor\")\n",
    "    def printname(self):\n",
    "        print(self.fname,self.lname)\n",
    "class Employee(person):\n",
    "    def __init__(self,empid):\n",
    "        self.empid = empid\n",
    "        super().__init__()\n",
    "        super().printname()\n",
    "    def details(self):\n",
    "        print(f\"the {self.fname} {self.lname} is havinig empid {self.empid}\")\n",
    "emp = Employee(\"110023\")\n",
    "emp.fname\n",
    "emp.lname\n",
    "emp.details()"
   ]
  },
  {
   "cell_type": "code",
   "execution_count": 4,
   "id": "37ececfb",
   "metadata": {},
   "outputs": [
    {
     "name": "stdout",
     "output_type": "stream",
     "text": [
      "birth younger backbone fur hair\n",
      "it has fur hair, have backbone and can give birth younger\n"
     ]
    }
   ],
   "source": [
    "class mamals:\n",
    "    def __init__(self):\n",
    "        self.birth_younger = \"birth younger\"\n",
    "        self.backbone = \"backbone\"\n",
    "        self.fur_hair = \"fur hair\"\n",
    "    def printname(self):\n",
    "        print(self.birth_younger,self.backbone,self.fur_hair)\n",
    "class Monkey(mamals):\n",
    "    def __init__(self):\n",
    "        super().__init__()\n",
    "        super().printname()\n",
    "    def details(self):\n",
    "        print(f\"it has {self.fur_hair}, have {self.backbone} and can give {self.birth_younger}\")\n",
    "m =Monkey()\n",
    "m.details()"
   ]
  },
  {
   "cell_type": "code",
   "execution_count": 7,
   "id": "6ebc1953",
   "metadata": {},
   "outputs": [
    {
     "name": "stdout",
     "output_type": "stream",
     "text": [
      "Enter the transport type: car\n"
     ]
    }
   ],
   "source": [
    "#WAc transport and def a constructor for the same for different transport type then define another class tax and tax the vechile accordingly to different transport type. if the transport is car_tax =2000 bus_tax= 1000 two_wheeler_tax = 500 govt_transport_tax = free.\n",
    "\n",
    "class transport:\n",
    "    def __init__(self):\n",
    "        self.transport_type = input(\"Enter the transport type: \")\n",
    "class tax:\n",
    "    def __init__(self):\n",
    "        if transport_type==\"car\":\n",
    "            print(\"The tax is Rs 2000\")\n",
    "        elif transport_type==\"bus\":\n",
    "            print(\"The tax is Rs 1000\")\n",
    "        elif transport_type==\"two_wheeler\":\n",
    "            print(\"The tax is Rs 500\")\n",
    "        elif transport_type==\"govt_transport\":\n",
    "            print(\"The tax is Rs free\")\n",
    "    def details:\n",
    "        print()\n",
    "c= transport()"
   ]
  }
 ],
 "metadata": {
  "kernelspec": {
   "display_name": "Python 3",
   "language": "python",
   "name": "python3"
  },
  "language_info": {
   "codemirror_mode": {
    "name": "ipython",
    "version": 3
   },
   "file_extension": ".py",
   "mimetype": "text/x-python",
   "name": "python",
   "nbconvert_exporter": "python",
   "pygments_lexer": "ipython3",
   "version": "3.8.8"
  }
 },
 "nbformat": 4,
 "nbformat_minor": 5
}
