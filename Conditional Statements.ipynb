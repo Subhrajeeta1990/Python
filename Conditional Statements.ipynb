{
 "cells": [
  {
   "cell_type": "code",
   "execution_count": 3,
   "id": "d7e95bb5",
   "metadata": {},
   "outputs": [
    {
     "name": "stdout",
     "output_type": "stream",
     "text": [
      "I want to play cricket\n",
      "Enter the wheather:cold\n",
      "Let's play\n"
     ]
    }
   ],
   "source": [
    "print(\"I want to play cricket\")\n",
    "wheather = input(\"Enter the wheather:\")  #sunny,cold,windy,rainy\n",
    "if wheather == \"sunny\":\n",
    "    print(\"Let's play\")\n",
    "elif wheather ==\"rainy\":\n",
    "    print(\"Let's not play\")\n",
    "elif wheather ==\"windy\":\n",
    "    print(\"Let's play\")\n",
    "else:\n",
    "    print(\"Let's play\")"
   ]
  },
  {
   "cell_type": "code",
   "execution_count": 8,
   "id": "0cb2d162",
   "metadata": {},
   "outputs": [
    {
     "name": "stdout",
     "output_type": "stream",
     "text": [
      "Enter the weight:78\n",
      "Enter the height:1.67\n",
      "Obese 27.968016063681024\n"
     ]
    }
   ],
   "source": [
    "#WAP to take input from the user regarding the weight and height, then calculate BMI and print BMI to be Underweight(0-16),normal(16-20),overweight(20-25) and Obese(above 25).\n",
    "\n",
    "weight =float(input(\"Enter the weight:\"))\n",
    "height =float(input(\"Enter the height:\"))\n",
    "BMI =weight/height**2\n",
    "if BMI > 0 and BMI <=16:\n",
    "    Print(\"Underweight\",BMI)\n",
    "elif BMI >16 and BMI < 20:\n",
    "    print(\"Normal\",BMI)\n",
    "elif BMI >20 and BMI <25:\n",
    "    print(\"Overweight\",BMI)\n",
    "else:\n",
    "    print(\"Obese\",BMI)"
   ]
  },
  {
   "cell_type": "code",
   "execution_count": 15,
   "id": "20cebd9c",
   "metadata": {},
   "outputs": [
    {
     "name": "stdout",
     "output_type": "stream",
     "text": [
      "Enter the marks:89\n",
      "Grade:B\n"
     ]
    }
   ],
   "source": [
    "#WAP to give grades to a students based on marks taken a input from the user:\n",
    "\n",
    "# marks >90=A+\n",
    "# marks 80-90=A\n",
    "# marks 70-80=B\n",
    "# marks 60-70=C\n",
    "# marks 50-60=D\n",
    "# marks <50=Fail\n",
    "\n",
    "marks = int(input(\"Enter the marks:\"))\n",
    "if marks>90:\n",
    "    print(\"Grade:A+\")\n",
    "elif 90<=marks>80:\n",
    "    print(\"Grade:A\")\n",
    "elif 80<=marks>70:\n",
    "    print(\"Grade:B\")\n",
    "elif 70<=marks>60:\n",
    "    print(\"Grade:C\")\n",
    "elif 60<=marks>50:\n",
    "    print(\"Grade:D\")\n",
    "else:\n",
    "    print(\"Grade:Fail\")\n",
    "\n"
   ]
  },
  {
   "cell_type": "code",
   "execution_count": 29,
   "id": "db6191c9",
   "metadata": {},
   "outputs": [
    {
     "name": "stdout",
     "output_type": "stream",
     "text": [
      "We need a CM\n",
      "Enter the criminal record:0\n",
      "Enter the past CM:yes\n",
      "Enter the education:yes\n",
      "Enter the age:67\n",
      "Eligible\n"
     ]
    }
   ],
   "source": [
    "#Elections are to happen in delhi and we need a CM:\n",
    "# #eligible conditions for the post of CM are:\n",
    "#     1) number_of _criminal_record = 0\n",
    "#     2) he should be a CM =\"yes\"\n",
    "#     3) education = \"graduate\"\n",
    "#     4) age >45\n",
    "    \n",
    "print(\"We need a CM\")\n",
    "number_of_criminal_record = int(input(\"Enter the criminal record:\"))\n",
    "past_CM =input(\"Enter the past CM:\")        \n",
    "education =input(\"Enter the education:\")\n",
    "age =int(input(\"Enter the age:\"))\n",
    "\n",
    "if number_of_criminal_record==0 and past_CM==\"yes\" and education==\"yes\" and age>45:\n",
    "    print(\"Eligible\")"
   ]
  },
  {
   "cell_type": "code",
   "execution_count": 8,
   "id": "2f3a02c2",
   "metadata": {},
   "outputs": [
    {
     "name": "stdout",
     "output_type": "stream",
     "text": [
      "Enter the trp:6000\n",
      "Rating:1\n"
     ]
    }
   ],
   "source": [
    "#WAP to take input regarding TRP of a news channel:\n",
    "# if the trp is >10k=5\n",
    "# if the trp is 8-10k=4\n",
    "# if the trp is 6-8k=3\n",
    "# if the trp is 4-6k=2\n",
    "# if the trp is 2-4k=1\n",
    "\n",
    "trp=int(input(\"Enter the trp:\"))\n",
    "if trp>=10000:\n",
    "    print(\"Rating:5\")\n",
    "elif 8000<trp<=1000:\n",
    "    print(\"Rating:4\")\n",
    "elif 6000<trp<=8000:\n",
    "    print(\"Rating:3\")\n",
    "elif 6000<trp<4000:\n",
    "    print(\"Rating:2\")\n",
    "else:\n",
    "    print(\"Rating:1\")"
   ]
  },
  {
   "cell_type": "code",
   "execution_count": 21,
   "id": "41b98ce6",
   "metadata": {},
   "outputs": [
    {
     "name": "stdout",
     "output_type": "stream",
     "text": [
      "Enter a number:50\n",
      "Hooray\n"
     ]
    }
   ],
   "source": [
    "#WAP to check if number entered by the user is divisible by 5 or not:\n",
    "#     if it is divisible by 5 print \"hooray\".\n",
    "#     else print \"bad luck\".\n",
    "# modulo operations use\n",
    "\n",
    "num =int(input(\"Enter a number:\"))\n",
    "if num%5==0:\n",
    "    print(\"Hooray\")\n",
    "else:\n",
    "    print(\"Bad_luck\")"
   ]
  },
  {
   "cell_type": "code",
   "execution_count": null,
   "id": "0ad3fe95",
   "metadata": {},
   "outputs": [],
   "source": []
  }
 ],
 "metadata": {
  "kernelspec": {
   "display_name": "Python 3",
   "language": "python",
   "name": "python3"
  },
  "language_info": {
   "codemirror_mode": {
    "name": "ipython",
    "version": 3
   },
   "file_extension": ".py",
   "mimetype": "text/x-python",
   "name": "python",
   "nbconvert_exporter": "python",
   "pygments_lexer": "ipython3",
   "version": "3.8.8"
  }
 },
 "nbformat": 4,
 "nbformat_minor": 5
}
