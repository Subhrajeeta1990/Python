{
 "cells": [
  {
   "cell_type": "markdown",
   "id": "ef2ba9e6",
   "metadata": {},
   "source": [
    "#Data ENcapsulation: "
   ]
  },
  {
   "cell_type": "raw",
   "id": "47ff7749",
   "metadata": {},
   "source": [
    "Capsule: two or more medicines clubbed together in a capsule\n",
    "three types of encapsulation:\n",
    "    procted: limited access\n",
    "    private: only me\n",
    "    public: all access"
   ]
  },
  {
   "cell_type": "code",
   "execution_count": 1,
   "id": "0a653e75",
   "metadata": {},
   "outputs": [
    {
     "data": {
      "text/plain": [
       "'wer'"
      ]
     },
     "execution_count": 1,
     "metadata": {},
     "output_type": "execute_result"
    }
   ],
   "source": [
    "class comp:\n",
    "    def __init__(self,name,a,b):\n",
    "        self._name= name #protected attribute\n",
    "        self.__a = a #private attribute\n",
    "        self.b = b #public attribute\n",
    "    def show(self):\n",
    "        print(\"comp\")\n",
    "c=comp(\"anam\",\"wer\",435)\n",
    "c.b\n",
    "c._name\n",
    "#c.__a\n",
    "#mangled name\n",
    "c._comp__a\n",
    "        "
   ]
  },
  {
   "cell_type": "markdown",
   "id": "53e2a93a",
   "metadata": {},
   "source": [
    "#Data Abstraction:\n",
    "we use abstraction for hiding the internal details or implementations of a function."
   ]
  },
  {
   "cell_type": "code",
   "execution_count": 2,
   "id": "e5d5da46",
   "metadata": {},
   "outputs": [
    {
     "name": "stdout",
     "output_type": "stream",
     "text": [
      "this is a show\n",
      "the price of the car is 2.6 crores\n"
     ]
    },
    {
     "data": {
      "text/plain": [
       "'Lamborghini'"
      ]
     },
     "execution_count": 2,
     "metadata": {},
     "output_type": "execute_result"
    }
   ],
   "source": [
    "from abc import ABC, abstractmethod\n",
    "\n",
    "class Car(ABC):\n",
    "    def __init__(self,name):\n",
    "        self.name= name\n",
    "    def show(self):\n",
    "        print(\"this is a show\")\n",
    "    \n",
    "    @abstractmethod\n",
    "    def price(self,x):\n",
    "        print(\"the method is hidden\")\n",
    "#c =Car(\"Honda City\")\n",
    "#c.show()\n",
    "class new(Car):\n",
    "    def price(self,x):\n",
    "        print(f\"the price of the car is {x} crores\")\n",
    "ob1= new(\"Lamborghini\")\n",
    "ob1.show()\n",
    "ob1.price(2.6)\n",
    "ob1.name"
   ]
  },
  {
   "cell_type": "raw",
   "id": "f3b348fe",
   "metadata": {},
   "source": [
    "#Polymorphism: many forms."
   ]
  },
  {
   "cell_type": "code",
   "execution_count": 3,
   "id": "a34c9842",
   "metadata": {},
   "outputs": [
    {
     "name": "stdout",
     "output_type": "stream",
     "text": [
      "Ferrari is having top speed of 320\n",
      "Mercedez is having top speed of 340\n",
      "Honda gives best mileage out of Ferrari and Mercedez\n"
     ]
    }
   ],
   "source": [
    "class Ferrari:\n",
    "    def features(self):\n",
    "        print(\"Ferrari is having top speed of 320\")\n",
    "        \n",
    "class Mercedez:\n",
    "     def features(self):\n",
    "        print(\"Mercedez is having top speed of 340\")\n",
    "\n",
    "class Honda:\n",
    "     def features(self):\n",
    "        print(\"Honda gives best mileage out of Ferrari and Mercedez\")\n",
    "        \n",
    "fer = Ferrari()\n",
    "m = Mercedez()\n",
    "h = Honda()\n",
    "for i in fer,m,h:\n",
    "    i.features()"
   ]
  }
 ],
 "metadata": {
  "kernelspec": {
   "display_name": "Python 3",
   "language": "python",
   "name": "python3"
  },
  "language_info": {
   "codemirror_mode": {
    "name": "ipython",
    "version": 3
   },
   "file_extension": ".py",
   "mimetype": "text/x-python",
   "name": "python",
   "nbconvert_exporter": "python",
   "pygments_lexer": "ipython3",
   "version": "3.8.8"
  }
 },
 "nbformat": 4,
 "nbformat_minor": 5
}
